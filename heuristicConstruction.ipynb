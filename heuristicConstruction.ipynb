{
 "cells": [
  {
   "cell_type": "code",
   "execution_count": 26,
   "metadata": {},
   "outputs": [
    {
     "name": "stdout",
     "output_type": "stream",
     "text": [
      "Time    20\n",
      "Name: medication, dtype: int64\n"
     ]
    }
   ],
   "source": [
    "import pandas as pd\n",
    "import gurobipy as gp\n",
    "from gurobipy import GRB\n",
    "\n",
    "# Read data\n",
    "data_path = \"nurse_schedule_project2_data_large_VA.xlsx\"\n",
    "locations = pd.read_excel(data_path, sheet_name=\"locations\", index_col = 0, header = None)\n",
    "nurses = pd.read_excel(data_path, sheet_name=\"nurses\", index_col = 0)\n",
    "task_time = pd.read_excel(data_path, sheet_name=\"task_execution_time\", index_col = 0).T\n",
    "\n",
    "patients = pd.read_excel(data_path, sheet_name=\"patients\", index_col = 0)\n",
    "# Break comma separated strings into lists\n",
    "for col in ['M', 'T', 'W','Th','F','S','Su']:\n",
    "    patients[col] = patients[col].apply(lambda x: x.split(', ') if isinstance(x, str) else [])\n",
    "for col in ['skillset']:\n",
    "    nurses[col] = nurses[col].apply(lambda x: x.split(', ') if isinstance(x, str) else [])\n",
    "\n",
    "# Transpose the dataframe to access patient information easily\n",
    "patients = patients.T\n",
    "nurses = nurses.T\n",
    "\n",
    "\n",
    "# Sets and Parameters\n",
    "N = nurses.columns.tolist()            # set of nurses\n",
    "P = patients.columns.tolist()          # set of patients\n",
    "L = list(locations.index)         # set of locations\n",
    "D = ['M', 'T', 'W', 'Th', 'F', 'S', 'Su']  # set of days\n",
    "T_tasks = task_time.columns.tolist() # set of tasks\n",
    "\n",
    "# Parameters\n",
    "\n",
    "\n",
    "# define a function to list all patients in a given location\n",
    "def find_keys_with_inner_value(df, target_value):\n",
    "    return list(df.T[df.T['location'] == target_value].index)\n",
    "\n",
    "print(task_time[\"medication\"])\n",
    "\n"
   ]
  },
  {
   "cell_type": "code",
   "execution_count": 27,
   "metadata": {},
   "outputs": [
    {
     "name": "stdout",
     "output_type": "stream",
     "text": [
      "Time    535\n",
      "Name: personal hygiene assistance, dtype: int64\n"
     ]
    }
   ],
   "source": [
    "# City with needs on each day,\n",
    "# array of 7 lists, each list contains patients in that city on that day \n",
    "\n",
    "# total task time / city / day \n",
    "\n",
    "# function to determine total task time / city / day\n",
    "def calculate_total_hours_per_city_per_day(day, city): \n",
    "    total_hours = 0\n",
    "    for patient in find_keys_with_inner_value(patients, city):\n",
    "        for task in patients[patient][day]:\n",
    "            total_hours += task_time[task]\n",
    "    return total_hours\n",
    "\n",
    "hoursBlacksburgMonday = calculate_total_hours_per_city_per_day('M', 'Alexandria')\n",
    "\n",
    "print(hoursBlacksburgMonday)\n",
    "# function to determine total task time / city / day / task\n",
    "def calculate_total_hours_per_city_per_day_per_task(day, city, task): \n",
    "    total_hours = 0\n",
    "    for patient in find_keys_with_inner_value(patients, city):\n",
    "        for task in patients[patient][day]:\n",
    "            total_hours += task_time[task]\n",
    "    return total_hours\n",
    "\n"
   ]
  },
  {
   "cell_type": "markdown",
   "metadata": {},
   "source": []
  }
 ],
 "metadata": {
  "kernelspec": {
   "display_name": "Python 3",
   "language": "python",
   "name": "python3"
  },
  "language_info": {
   "codemirror_mode": {
    "name": "ipython",
    "version": 3
   },
   "file_extension": ".py",
   "mimetype": "text/x-python",
   "name": "python",
   "nbconvert_exporter": "python",
   "pygments_lexer": "ipython3",
   "version": "3.11.4"
  }
 },
 "nbformat": 4,
 "nbformat_minor": 2
}
