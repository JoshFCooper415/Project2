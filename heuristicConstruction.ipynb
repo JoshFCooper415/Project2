{
 "cells": [
  {
   "cell_type": "code",
   "execution_count": 218,
   "metadata": {},
   "outputs": [
    {
     "name": "stdout",
     "output_type": "stream",
     "text": [
      "[]\n"
     ]
    }
   ],
   "source": [
    "import pandas as pd\n",
    "import gurobipy as gp\n",
    "from gurobipy import GRB\n",
    "\n",
    "# Read data\n",
    "data_path = \"small_data.xlsx\"\n",
    "#data_path = \"nurse_schedule_project2_data_large_VA.xlsx\"\n",
    "locations = pd.read_excel(data_path, sheet_name=\"locations\", index_col = 0, header = None)\n",
    "nurses = pd.read_excel(data_path, sheet_name=\"nurses\", index_col = 0)\n",
    "task_time = pd.read_excel(data_path, sheet_name=\"task_execution_time\", index_col = 0).T\n",
    "\n",
    "patients = pd.read_excel(data_path, sheet_name=\"patients\", index_col = 0)\n",
    "# Break comma separated strings into lists\n",
    "for col in ['M', 'T', 'W','Th','F','S','Su']:\n",
    "    patients[col] = patients[col].apply(lambda x: x.split(', ') if isinstance(x, str) else [])\n",
    "for col in ['skillset']:\n",
    "    nurses[col] = nurses[col].apply(lambda x: x.split(', ') if isinstance(x, str) else [])\n",
    "\n",
    "# Transpose the dataframe to access patient information easily\n",
    "patients = patients.T\n",
    "nurses = nurses.T\n",
    "\n",
    "\n",
    "# Sets and Parameters\n",
    "N = nurses.columns.tolist()            # set of nurses\n",
    "NursesSkills = nurses.loc['skillset']  # set of skills\n",
    "P = patients.columns.tolist()          # set of patients\n",
    "L = list(locations.index)         # set of locations\n",
    "D = ['M', 'T', 'W', 'Th', 'F', 'S', 'Su']  # set of days\n",
    "T_tasks = task_time.columns.tolist() # set of tasks\n",
    "\n",
    "# Parameters\n",
    "\n",
    "\n",
    "# define a function to list all patients in a given location\n",
    "def find_keys_with_inner_value(df, target_value):\n",
    "    return list(df.T[df.T['location'] == target_value].index)\n",
    "\n",
    "print(find_keys_with_inner_value(patients, 'L1'))"
   ]
  },
  {
   "cell_type": "markdown",
   "metadata": {},
   "source": [
    "# Code below will make a schedule confirming to the 40 hour limit only"
   ]
  },
  {
   "cell_type": "code",
   "execution_count": 219,
   "metadata": {},
   "outputs": [
    {
     "name": "stdout",
     "output_type": "stream",
     "text": [
      "{'Nurse_1': {'M': [], 'T': [], 'W': [], 'Th': [], 'F': [('Patient_1', 'administering injections')], 'S': [('Patient_1', 'administering injections'), ('Patient_3', 'administering injections')], 'Su': [('Patient_1', 'administering injections')]}, 'Nurse_2': {'M': [], 'T': [], 'W': [], 'Th': [], 'F': [], 'S': [], 'Su': [('Patient_2', 'wound care')]}}\n",
      "{'Nurse_1': {'M': 0, 'T': 0, 'W': 0, 'Th': 0, 'F': 0.4166666666666667, 'S': 0.8333333333333334, 'Su': 0.4166666666666667}, 'Nurse_2': {'M': 0, 'T': 0, 'W': 0, 'Th': 0, 'F': 0, 'S': 0, 'Su': 0.8333333333333334}}\n"
     ]
    }
   ],
   "source": [
    "# Initialize a dictionary to hold the schedule\n",
    "schedule = {nurse: {'M': [], 'T': [], 'W': [], 'Th': [], 'F': [], 'S': [], 'Su': []} for nurse in N}\n",
    "\n",
    "# Assuming that 'task_time' is a DataFrame where index are task names and there's a 'Time' column.\n",
    "# Convert task_time to a dictionary for easier use in the function if required.\n",
    "task_time_dict = task_time.to_dict('index')\n",
    "\n",
    "# Function to assign nurses to patients based on skillset matching\n",
    "def assign_nurses_to_patients(nurses, patients, task_time_dict, max_hours_per_day=10):\n",
    "    # Initialize a schedule dictionary\n",
    "    schedule = {nurse: {day: [] for day in D} for nurse in nurses.columns}\n",
    "\n",
    "    # Initialize a dictionary to keep track of the total hours worked by each nurse each day\n",
    "    nurse_hours = {nurse: {day: 0 for day in D} for nurse in nurses.columns}\n",
    "\n",
    "    # Initialize binary variables for task assignment (0 = not assigned, 1 = assigned)\n",
    "    task_assigned = {(patient, task, day): 0 for day in D for patient in P for task in T_tasks}\n",
    "\n",
    "    # Iterate over the days and patients to assign tasks to nurses based on their skills\n",
    "    for day in D:  # 'D' is the list of days\n",
    "        for patient in P:  # 'P' is the list of patient IDs\n",
    "            # Check if the patient's info for the day is a list indicating they have tasks that day\n",
    "            if isinstance(patients.loc[day, patient], list):\n",
    "                patient_tasks = patients.loc[day, patient]\n",
    "                for task in patient_tasks:\n",
    "                    for nurse in nurses.columns:\n",
    "                        nurse_skills = nurses.loc['skillset', nurse]\n",
    "                        # Access the duration for the task\n",
    "                        task_duration = task_time_dict['Time'].get(task, 0) / 60  # Convert minutes to hours\n",
    "                        \n",
    "                        # Check if the nurse has the skill and the task is not already assigned\n",
    "                        if task in nurse_skills and nurse_hours[nurse][day] + task_duration <= max_hours_per_day and not task_assigned[(patient, task, day)]:\n",
    "                            # Assign task to nurse for this day\n",
    "                            schedule[nurse][day].append((patient, task))\n",
    "                            # Update hours for the nurse\n",
    "                            nurse_hours[nurse][day] += task_duration\n",
    "                            # Mark the task as assigned\n",
    "                            task_assigned[(patient, task, day)] = 1\n",
    "\n",
    "    return schedule, nurse_hours\n",
    "\n",
    "# Call the updated function\n",
    "updated_schedule, nurse_hours = assign_nurses_to_patients(nurses, patients, task_time_dict)\n",
    "\n",
    "print(updated_schedule)\n",
    "print(nurse_hours)\n"
   ]
  },
  {
   "cell_type": "markdown",
   "metadata": {},
   "source": [
    "# Code below will check a returned schedule and return a list of nurses who do not work consecutive days\n",
    "\n",
    "This code is working when tested for non consecutive days including SUNDAY to MONDAY"
   ]
  },
  {
   "cell_type": "code",
   "execution_count": 220,
   "metadata": {},
   "outputs": [
    {
     "name": "stdout",
     "output_type": "stream",
     "text": [
      "['Patient_3', 'Patient_2']\n"
     ]
    }
   ],
   "source": [
    "# Redefining the function with the correct logic to handle Sunday and Monday consecutiveness\n",
    "\n",
    "def check_consecutive_days(schedule, days):\n",
    "    # Helper function to determine if two days are consecutive\n",
    "    def is_consecutive(day1, day2, day_order):\n",
    "        idx1 = day_order.index(day1)\n",
    "        idx2 = day_order.index(day2)\n",
    "        # Check for consecutive days considering wrap around\n",
    "        return (idx1 + 1) % len(day_order) == idx2 or (idx2 + 1) % len(day_order) == idx1\n",
    "\n",
    "    # Initialize a dictionary to keep track of patients' schedules\n",
    "    patient_schedule = {}\n",
    "    for nurse in schedule:\n",
    "        for day in schedule[nurse]:\n",
    "            for appointment in schedule[nurse][day]:\n",
    "                patient, _ = appointment\n",
    "                if patient not in patient_schedule:\n",
    "                    patient_schedule[patient] = []\n",
    "                patient_schedule[patient].append(day)\n",
    "\n",
    "    # Check for patients not working on consecutive days\n",
    "    non_consecutive_patients = []\n",
    "    for patient in patient_schedule:\n",
    "        patient_days = patient_schedule[patient]\n",
    "        # Sort days by the index in the 'days' list to simplify consecutive check\n",
    "        sorted_days = sorted(patient_days, key=lambda x: days.index(x))\n",
    "        # Check each day with the next to see if any are consecutive\n",
    "        consecutive = any(is_consecutive(sorted_days[i], sorted_days[i + 1], days)\n",
    "                          for i in range(len(sorted_days) - 1))\n",
    "        # Check for wrap-around case separately (Sunday to Monday)\n",
    "        if not consecutive and is_consecutive(sorted_days[-1], sorted_days[0], days):\n",
    "            consecutive = True\n",
    "        if not consecutive:\n",
    "            non_consecutive_patients.append(patient)\n",
    "\n",
    "    return non_consecutive_patients\n",
    "\n",
    "# Now call the function with the current schedule to find out which nurses have non-consecutive schedules\n",
    "non_consecutive_schedule_nurses = check_consecutive_days(updated_schedule, D)\n",
    "\n",
    "print(non_consecutive_schedule_nurses)"
   ]
  },
  {
   "cell_type": "markdown",
   "metadata": {},
   "source": [
    "# Code below will return a dict of nurses with an array of days as values. The days are those in which the nurse works at multiple locations"
   ]
  },
  {
   "cell_type": "code",
   "execution_count": 221,
   "metadata": {},
   "outputs": [
    {
     "name": "stdout",
     "output_type": "stream",
     "text": [
      "{'Nurse_1': ['S']}\n",
      "{'Nurse_1': {'M': [], 'T': [], 'W': [], 'Th': [], 'F': [('Patient_1', 'administering injections')], 'S': [('Patient_1', 'administering injections'), ('Patient_3', 'administering injections')], 'Su': [('Patient_1', 'administering injections')]}, 'Nurse_2': {'M': [], 'T': [], 'W': [], 'Th': [], 'F': [], 'S': [], 'Su': [('Patient_2', 'wound care')]}}\n"
     ]
    }
   ],
   "source": [
    "def find_nurses_with_different_locations(schedule, find_keys_with_inner_value, L, patients):\n",
    "    # Find out which patients are at each location\n",
    "    patients_at_locations = {location: find_keys_with_inner_value(patients, location) for location in L}\n",
    "\n",
    "    # Reverse map to see which location each patient is at for quick lookup\n",
    "    patient_location_map = {}\n",
    "    for location, location_patients in patients_at_locations.items():\n",
    "        for patient in location_patients:\n",
    "            patient_location_map[patient] = location\n",
    "\n",
    "    # Store nurses who work with patients in more than one location on a single day\n",
    "    nurses_with_different_locations = {}\n",
    "\n",
    "    # Check each nurse's schedule\n",
    "    for nurse, days in schedule.items():\n",
    "        for day, appointments in days.items():\n",
    "            locations_worked = set()  # Initialize locations_worked for each day\n",
    "            for patient, _ in appointments:\n",
    "                if patient in patient_location_map:  # Check if patient has a mapped location\n",
    "                    locations_worked.add(patient_location_map[patient])\n",
    "            # If a nurse works in more than one location in the same day, add to the result\n",
    "            if len(locations_worked) > 1:\n",
    "                if nurse not in nurses_with_different_locations:\n",
    "                    nurses_with_different_locations[nurse] = []\n",
    "                nurses_with_different_locations[nurse].append(day)\n",
    "\n",
    "    return nurses_with_different_locations\n",
    "\n",
    "# Call the function with the current schedule to find out which nurses have different locations\n",
    "nurses_with_different_locations = find_nurses_with_different_locations(updated_schedule, find_keys_with_inner_value, L, patients)\n",
    "\n",
    "print(nurses_with_different_locations)\n",
    "print(updated_schedule)"
   ]
  },
  {
   "cell_type": "markdown",
   "metadata": {},
   "source": [
    "Some kind of a method to check if a task can be reassigned from nurse X to nurse Y without causing conflicts"
   ]
  },
  {
   "cell_type": "code",
   "execution_count": null,
   "metadata": {},
   "outputs": [],
   "source": []
  },
  {
   "cell_type": "markdown",
   "metadata": {},
   "source": [
    "Some kind of method that will take in a nurse and check if it alone has a valid schedule maybe?"
   ]
  },
  {
   "cell_type": "code",
   "execution_count": null,
   "metadata": {},
   "outputs": [],
   "source": []
  },
  {
   "cell_type": "markdown",
   "metadata": {},
   "source": []
  },
  {
   "cell_type": "markdown",
   "metadata": {},
   "source": [
    "# (ignore below)"
   ]
  },
  {
   "cell_type": "code",
   "execution_count": 222,
   "metadata": {},
   "outputs": [
    {
     "name": "stdout",
     "output_type": "stream",
     "text": [
      "{'Nurse_1': {'M': 0, 'T': 0, 'W': 0, 'Th': 0, 'F': 0, 'S': 0, 'Su': 0}, 'Nurse_2': {'M': 0, 'T': 0, 'W': 0, 'Th': 0, 'F': 0, 'S': 0, 'Su': 0}}\n",
      "\n",
      "\n",
      "\n",
      "{'Alexandria': {'M': {'medication': 0, 'drawing blood': 0, 'physical therapy': 0, 'wound care': 0, 'administering injections': 0, 'personal hygiene assistance': 0}, 'T': {'medication': 0, 'drawing blood': 0, 'physical therapy': 0, 'wound care': 0, 'administering injections': 0, 'personal hygiene assistance': 0}, 'W': {'medication': 0, 'drawing blood': 0, 'physical therapy': 0, 'wound care': 0, 'administering injections': 0, 'personal hygiene assistance': 0}, 'Th': {'medication': 0, 'drawing blood': 0, 'physical therapy': 0, 'wound care': 0, 'administering injections': 0, 'personal hygiene assistance': 0}, 'F': {'medication': 0, 'drawing blood': 0, 'physical therapy': 0, 'wound care': 0, 'administering injections': 0, 'personal hygiene assistance': 0}, 'S': {'medication': 0, 'drawing blood': 0, 'physical therapy': 0, 'wound care': 0, 'administering injections': 0, 'personal hygiene assistance': 0}, 'Su': {'medication': 0, 'drawing blood': 0, 'physical therapy': 0, 'wound care': 0, 'administering injections': 0, 'personal hygiene assistance': 0}}, 'Roanoke': {'M': {'medication': 0, 'drawing blood': 0, 'physical therapy': 0, 'wound care': 0, 'administering injections': 0, 'personal hygiene assistance': 0}, 'T': {'medication': 0, 'drawing blood': 0, 'physical therapy': 0, 'wound care': 0, 'administering injections': 0, 'personal hygiene assistance': 0}, 'W': {'medication': 0, 'drawing blood': 0, 'physical therapy': 0, 'wound care': 0, 'administering injections': 0, 'personal hygiene assistance': 0}, 'Th': {'medication': 0, 'drawing blood': 0, 'physical therapy': 0, 'wound care': 0, 'administering injections': 0, 'personal hygiene assistance': 0}, 'F': {'medication': 0, 'drawing blood': 0, 'physical therapy': 0, 'wound care': 0, 'administering injections': 0, 'personal hygiene assistance': 0}, 'S': {'medication': 0, 'drawing blood': 0, 'physical therapy': 0, 'wound care': 0, 'administering injections': 0, 'personal hygiene assistance': 0}, 'Su': {'medication': 0, 'drawing blood': 0, 'physical therapy': 0, 'wound care': 0, 'administering injections': 0, 'personal hygiene assistance': 0}}, 'Norfolk': {'M': {'medication': 0, 'drawing blood': 0, 'physical therapy': 0, 'wound care': 0, 'administering injections': 0, 'personal hygiene assistance': 0}, 'T': {'medication': 0, 'drawing blood': 0, 'physical therapy': 0, 'wound care': 0, 'administering injections': 0, 'personal hygiene assistance': 0}, 'W': {'medication': 0, 'drawing blood': 0, 'physical therapy': 0, 'wound care': 0, 'administering injections': 0, 'personal hygiene assistance': 0}, 'Th': {'medication': 0, 'drawing blood': 0, 'physical therapy': 0, 'wound care': 0, 'administering injections': 0, 'personal hygiene assistance': 0}, 'F': {'medication': 0, 'drawing blood': 0, 'physical therapy': 0, 'wound care': 0, 'administering injections': 0, 'personal hygiene assistance': 0}, 'S': {'medication': 0, 'drawing blood': 0, 'physical therapy': 0, 'wound care': 0, 'administering injections': Time    25\n",
      "Name: administering injections, dtype: int64, 'personal hygiene assistance': 0}, 'Su': {'medication': 0, 'drawing blood': 0, 'physical therapy': 0, 'wound care': 0, 'administering injections': 0, 'personal hygiene assistance': 0}}, 'Virginia Beach': {'M': {'medication': 0, 'drawing blood': 0, 'physical therapy': 0, 'wound care': 0, 'administering injections': 0, 'personal hygiene assistance': 0}, 'T': {'medication': 0, 'drawing blood': 0, 'physical therapy': 0, 'wound care': 0, 'administering injections': 0, 'personal hygiene assistance': 0}, 'W': {'medication': 0, 'drawing blood': 0, 'physical therapy': 0, 'wound care': 0, 'administering injections': 0, 'personal hygiene assistance': 0}, 'Th': {'medication': 0, 'drawing blood': 0, 'physical therapy': 0, 'wound care': 0, 'administering injections': 0, 'personal hygiene assistance': 0}, 'F': {'medication': 0, 'drawing blood': 0, 'physical therapy': 0, 'wound care': 0, 'administering injections': 0, 'personal hygiene assistance': 0}, 'S': {'medication': 0, 'drawing blood': 0, 'physical therapy': 0, 'wound care': 0, 'administering injections': 0, 'personal hygiene assistance': 0}, 'Su': {'medication': 0, 'drawing blood': 0, 'physical therapy': 0, 'wound care': 0, 'administering injections': 0, 'personal hygiene assistance': 0}}, 'Chesapeake': {'M': {'medication': 0, 'drawing blood': 0, 'physical therapy': 0, 'wound care': 0, 'administering injections': 0, 'personal hygiene assistance': 0}, 'T': {'medication': 0, 'drawing blood': 0, 'physical therapy': 0, 'wound care': 0, 'administering injections': 0, 'personal hygiene assistance': 0}, 'W': {'medication': 0, 'drawing blood': 0, 'physical therapy': 0, 'wound care': 0, 'administering injections': 0, 'personal hygiene assistance': 0}, 'Th': {'medication': 0, 'drawing blood': 0, 'physical therapy': 0, 'wound care': 0, 'administering injections': 0, 'personal hygiene assistance': 0}, 'F': {'medication': 0, 'drawing blood': 0, 'physical therapy': 0, 'wound care': 0, 'administering injections': 0, 'personal hygiene assistance': 0}, 'S': {'medication': 0, 'drawing blood': 0, 'physical therapy': 0, 'wound care': 0, 'administering injections': 0, 'personal hygiene assistance': 0}, 'Su': {'medication': 0, 'drawing blood': 0, 'physical therapy': 0, 'wound care': 0, 'administering injections': 0, 'personal hygiene assistance': 0}}, 'Richmond': {'M': {'medication': 0, 'drawing blood': 0, 'physical therapy': 0, 'wound care': 0, 'administering injections': 0, 'personal hygiene assistance': 0}, 'T': {'medication': 0, 'drawing blood': 0, 'physical therapy': 0, 'wound care': 0, 'administering injections': 0, 'personal hygiene assistance': 0}, 'W': {'medication': 0, 'drawing blood': 0, 'physical therapy': 0, 'wound care': 0, 'administering injections': 0, 'personal hygiene assistance': 0}, 'Th': {'medication': 0, 'drawing blood': 0, 'physical therapy': 0, 'wound care': 0, 'administering injections': 0, 'personal hygiene assistance': 0}, 'F': {'medication': 0, 'drawing blood': 0, 'physical therapy': 0, 'wound care': 0, 'administering injections': 0, 'personal hygiene assistance': 0}, 'S': {'medication': 0, 'drawing blood': 0, 'physical therapy': 0, 'wound care': 0, 'administering injections': 0, 'personal hygiene assistance': 0}, 'Su': {'medication': 0, 'drawing blood': 0, 'physical therapy': 0, 'wound care': 0, 'administering injections': 0, 'personal hygiene assistance': 0}}, 'Williamsburg': {'M': {'medication': 0, 'drawing blood': 0, 'physical therapy': 0, 'wound care': 0, 'administering injections': 0, 'personal hygiene assistance': 0}, 'T': {'medication': 0, 'drawing blood': 0, 'physical therapy': 0, 'wound care': 0, 'administering injections': 0, 'personal hygiene assistance': 0}, 'W': {'medication': 0, 'drawing blood': 0, 'physical therapy': 0, 'wound care': 0, 'administering injections': 0, 'personal hygiene assistance': 0}, 'Th': {'medication': 0, 'drawing blood': 0, 'physical therapy': 0, 'wound care': 0, 'administering injections': 0, 'personal hygiene assistance': 0}, 'F': {'medication': 0, 'drawing blood': 0, 'physical therapy': 0, 'wound care': 0, 'administering injections': 0, 'personal hygiene assistance': 0}, 'S': {'medication': 0, 'drawing blood': 0, 'physical therapy': 0, 'wound care': 0, 'administering injections': 0, 'personal hygiene assistance': 0}, 'Su': {'medication': 0, 'drawing blood': 0, 'physical therapy': 0, 'wound care': 0, 'administering injections': 0, 'personal hygiene assistance': 0}}, 'Lynchburg': {'M': {'medication': 0, 'drawing blood': 0, 'physical therapy': 0, 'wound care': 0, 'administering injections': 0, 'personal hygiene assistance': 0}, 'T': {'medication': 0, 'drawing blood': 0, 'physical therapy': 0, 'wound care': 0, 'administering injections': 0, 'personal hygiene assistance': 0}, 'W': {'medication': 0, 'drawing blood': 0, 'physical therapy': 0, 'wound care': 0, 'administering injections': 0, 'personal hygiene assistance': 0}, 'Th': {'medication': 0, 'drawing blood': 0, 'physical therapy': 0, 'wound care': 0, 'administering injections': 0, 'personal hygiene assistance': 0}, 'F': {'medication': 0, 'drawing blood': 0, 'physical therapy': 0, 'wound care': 0, 'administering injections': 0, 'personal hygiene assistance': 0}, 'S': {'medication': 0, 'drawing blood': 0, 'physical therapy': 0, 'wound care': 0, 'administering injections': 0, 'personal hygiene assistance': 0}, 'Su': {'medication': 0, 'drawing blood': 0, 'physical therapy': 0, 'wound care': 0, 'administering injections': 0, 'personal hygiene assistance': 0}}, 'Fredericksburg': {'M': {'medication': 0, 'drawing blood': 0, 'physical therapy': 0, 'wound care': 0, 'administering injections': 0, 'personal hygiene assistance': 0}, 'T': {'medication': 0, 'drawing blood': 0, 'physical therapy': 0, 'wound care': 0, 'administering injections': 0, 'personal hygiene assistance': 0}, 'W': {'medication': 0, 'drawing blood': 0, 'physical therapy': 0, 'wound care': 0, 'administering injections': 0, 'personal hygiene assistance': 0}, 'Th': {'medication': 0, 'drawing blood': 0, 'physical therapy': 0, 'wound care': 0, 'administering injections': 0, 'personal hygiene assistance': 0}, 'F': {'medication': 0, 'drawing blood': 0, 'physical therapy': 0, 'wound care': 0, 'administering injections': Time    25\n",
      "Name: administering injections, dtype: int64, 'personal hygiene assistance': 0}, 'S': {'medication': 0, 'drawing blood': 0, 'physical therapy': 0, 'wound care': 0, 'administering injections': Time    25\n",
      "Name: administering injections, dtype: int64, 'personal hygiene assistance': 0}, 'Su': {'medication': 0, 'drawing blood': 0, 'physical therapy': 0, 'wound care': Time    50\n",
      "Name: wound care, dtype: int64, 'administering injections': Time    25\n",
      "Name: administering injections, dtype: int64, 'personal hygiene assistance': 0}}, 'Arlington': {'M': {'medication': 0, 'drawing blood': 0, 'physical therapy': 0, 'wound care': 0, 'administering injections': 0, 'personal hygiene assistance': 0}, 'T': {'medication': 0, 'drawing blood': 0, 'physical therapy': 0, 'wound care': 0, 'administering injections': 0, 'personal hygiene assistance': 0}, 'W': {'medication': 0, 'drawing blood': 0, 'physical therapy': 0, 'wound care': 0, 'administering injections': 0, 'personal hygiene assistance': 0}, 'Th': {'medication': 0, 'drawing blood': 0, 'physical therapy': 0, 'wound care': 0, 'administering injections': 0, 'personal hygiene assistance': 0}, 'F': {'medication': 0, 'drawing blood': 0, 'physical therapy': 0, 'wound care': 0, 'administering injections': 0, 'personal hygiene assistance': 0}, 'S': {'medication': 0, 'drawing blood': 0, 'physical therapy': 0, 'wound care': 0, 'administering injections': 0, 'personal hygiene assistance': 0}, 'Su': {'medication': 0, 'drawing blood': 0, 'physical therapy': 0, 'wound care': 0, 'administering injections': 0, 'personal hygiene assistance': 0}}}\n"
     ]
    }
   ],
   "source": [
    "# City with needs on each day,\n",
    "# array of 7 lists, each list contains patients in that city on that day \n",
    "\n",
    "# total task time / city / day \n",
    "\n",
    "# function to determine total task time / city / day\n",
    "def calculate_total_hours_per_city_per_day(day, city): \n",
    "    total_hours = 0\n",
    "    for patient in find_keys_with_inner_value(patients, city):\n",
    "        for task in patients[patient][day]:\n",
    "            total_hours += task_time[task]\n",
    "    return total_hours\n",
    "\n",
    "# function to determine total task time / city / day / task\n",
    "def calculate_total_hours_per_city_per_day_per_task(day, city, task): \n",
    "    total_hours = 0\n",
    "    for patient in find_keys_with_inner_value(patients, city):\n",
    "        for theTask in patients[patient][day]:\n",
    "            if theTask == task:\n",
    "                total_hours += task_time[task]\n",
    "    return total_hours\n",
    "\n",
    "\n",
    "# make an array for each nurse with the total hours they work on each day (init to 0)\n",
    "eachNursesHours = {}\n",
    "for nurse in N:\n",
    "    eachNursesHours[nurse] = {}\n",
    "    for day in D:\n",
    "        eachNursesHours[nurse][day] = 0\n",
    "\n",
    "print(eachNursesHours)\n",
    "\n",
    "# make an array for each city with the total hours of work needed on each day using the function above\n",
    "eachCityHours = {}\n",
    "for city in L:\n",
    "    eachCityHours[city] = {}\n",
    "    for day in D:\n",
    "        eachCityHours[city][day] = {}\n",
    "        for task in T_tasks:\n",
    "            eachCityHours[city][day][task] = calculate_total_hours_per_city_per_day_per_task(day, city, task)\n",
    "\n",
    "print()\n",
    "print()\n",
    "print()\n",
    "print(eachCityHours)\n",
    "\n",
    "# loop through each city for each day and assign a nurse to each task's total time if the nurse has the skillset and is available\n",
    "# THIS FUNCTRION DOES NOT WORK YET @JOSH we will fix it later \n",
    "def assignNurses():\n",
    "    for city in L:\n",
    "        for day in D:\n",
    "            for task in T_tasks:\n",
    "                for nurse in N:\n",
    "                    if task in NursesSkills['Nurse_1'] and eachNursesHours[nurse][day] < eachCityHours[city][day][task]:\n",
    "                        eachNursesHours[nurse][day] += eachCityHours[city][day][task]\n",
    "                        print(\"Nurse \" + nurse + \" assigned to \" + task + \" in \" + city + \" on \" + day)\n",
    "                        break\n",
    "\n",
    "#assignNurses()\n"
   ]
  }
 ],
 "metadata": {
  "kernelspec": {
   "display_name": "Python 3",
   "language": "python",
   "name": "python3"
  },
  "language_info": {
   "codemirror_mode": {
    "name": "ipython",
    "version": 3
   },
   "file_extension": ".py",
   "mimetype": "text/x-python",
   "name": "python",
   "nbconvert_exporter": "python",
   "pygments_lexer": "ipython3",
   "version": "3.11.6"
  }
 },
 "nbformat": 4,
 "nbformat_minor": 2
}
