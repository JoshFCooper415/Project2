{
 "cells": [
  {
   "cell_type": "code",
   "execution_count": 2,
   "metadata": {},
   "outputs": [
    {
     "name": "stdout",
     "output_type": "stream",
     "text": [
      "Requirement already satisfied: pandas in c:\\users\\joshf\\anaconda3\\lib\\site-packages (2.0.3)\n",
      "Requirement already satisfied: python-dateutil>=2.8.2 in c:\\users\\joshf\\anaconda3\\lib\\site-packages (from pandas) (2.8.2)\n",
      "Requirement already satisfied: pytz>=2020.1 in c:\\users\\joshf\\anaconda3\\lib\\site-packages (from pandas) (2023.3.post1)\n",
      "Requirement already satisfied: tzdata>=2022.1 in c:\\users\\joshf\\anaconda3\\lib\\site-packages (from pandas) (2023.3)\n",
      "Requirement already satisfied: numpy>=1.21.0 in c:\\users\\joshf\\anaconda3\\lib\\site-packages (from pandas) (1.24.3)\n",
      "Requirement already satisfied: six>=1.5 in c:\\users\\joshf\\anaconda3\\lib\\site-packages (from python-dateutil>=2.8.2->pandas) (1.16.0)\n",
      "Collecting gurobipy\n",
      "  Obtaining dependency information for gurobipy from https://files.pythonhosted.org/packages/42/95/2e139e55df206b65c8f577db73d69d806a110cbd4b12477b37375f033565/gurobipy-10.0.3-cp311-cp311-win_amd64.whl.metadata\n",
      "  Downloading gurobipy-10.0.3-cp311-cp311-win_amd64.whl.metadata (15 kB)\n",
      "Downloading gurobipy-10.0.3-cp311-cp311-win_amd64.whl (9.7 MB)\n",
      "   ---------------------------------------- 0.0/9.7 MB ? eta -:--:--\n",
      "   ---------------------------------------- 0.0/9.7 MB 1.9 MB/s eta 0:00:06\n",
      "   -- ------------------------------------- 0.6/9.7 MB 12.4 MB/s eta 0:00:01\n",
      "   ------ --------------------------------- 1.5/9.7 MB 16.1 MB/s eta 0:00:01\n",
      "   ----------- ---------------------------- 2.7/9.7 MB 19.3 MB/s eta 0:00:01\n",
      "   -------------- ------------------------- 3.6/9.7 MB 20.9 MB/s eta 0:00:01\n",
      "   --------------------- ------------------ 5.1/9.7 MB 23.1 MB/s eta 0:00:01\n",
      "   --------------------------- ------------ 6.7/9.7 MB 25.1 MB/s eta 0:00:01\n",
      "   ----------------------------- ---------- 7.1/9.7 MB 24.0 MB/s eta 0:00:01\n",
      "   ---------------------------------- ----- 8.2/9.7 MB 23.8 MB/s eta 0:00:01\n",
      "   ------------------------------------- -- 9.1/9.7 MB 24.1 MB/s eta 0:00:01\n",
      "   ---------------------------------------  9.5/9.7 MB 22.5 MB/s eta 0:00:01\n",
      "   ---------------------------------------  9.6/9.7 MB 22.0 MB/s eta 0:00:01\n",
      "   ---------------------------------------- 9.7/9.7 MB 20.6 MB/s eta 0:00:00\n",
      "Installing collected packages: gurobipy\n",
      "Successfully installed gurobipy-10.0.3\n"
     ]
    }
   ],
   "source": [
    "!pip install pandas\n",
    "!pip install gurobipy"
   ]
  },
  {
   "cell_type": "code",
   "execution_count": 9,
   "metadata": {},
   "outputs": [
    {
     "name": "stdout",
     "output_type": "stream",
     "text": [
      "[]\n"
     ]
    }
   ],
   "source": [
    "import pandas as pd\n",
    "import gurobipy as gp\n",
    "from gurobipy import GRB\n",
    "\n",
    "# Read data\n",
    "data_path = \"nurse_schedule_project2_data_large_VA.xlsx\"\n",
    "#data_path = \"nurse_schedule_project2_data_large_VA.xlsx\"\n",
    "locations = pd.read_excel(data_path, sheet_name=\"locations\", index_col = 0, header = None)\n",
    "nurses = pd.read_excel(data_path, sheet_name=\"nurses\", index_col = 0)\n",
    "task_time = pd.read_excel(data_path, sheet_name=\"task_execution_time\", index_col = 0).T\n",
    "\n",
    "patients = pd.read_excel(data_path, sheet_name=\"patients\", index_col = 0)\n",
    "# Break comma separated strings into lists\n",
    "for col in ['M', 'T', 'W','Th','F','S','Su']:\n",
    "    patients[col] = patients[col].apply(lambda x: x.split(', ') if isinstance(x, str) else [])\n",
    "for col in ['skillset']:\n",
    "    nurses[col] = nurses[col].apply(lambda x: x.split(', ') if isinstance(x, str) else [])\n",
    "\n",
    "# Transpose the dataframe to access patient information easily\n",
    "patients = patients.T\n",
    "nurses = nurses.T\n",
    "\n",
    "\n",
    "# Sets and Parameters\n",
    "N = nurses.columns.tolist()            # set of nurses\n",
    "NursesSkills = nurses.loc['skillset']  # set of skills\n",
    "P = patients.columns.tolist()          # set of patients\n",
    "L = list(locations.index)         # set of locations\n",
    "D = ['M', 'T', 'W', 'Th', 'F', 'S', 'Su']  # set of days\n",
    "T_tasks = task_time.columns.tolist() # set of tasks\n",
    "\n",
    "# Parameters\n",
    "\n",
    "\n",
    "# define a function to list all patients in a given location\n",
    "def find_keys_with_inner_value(df, target_value):\n",
    "    return list(df.T[df.T['location'] == target_value].index)\n",
    "\n",
    "print(find_keys_with_inner_value(patients, 'L1'))"
   ]
  },
  {
   "cell_type": "markdown",
   "metadata": {},
   "source": [
    "# Code below will make a schedule confirming to the 40 hour limit only"
   ]
  },
  {
   "cell_type": "code",
   "execution_count": 10,
   "metadata": {},
   "outputs": [
    {
     "name": "stdout",
     "output_type": "stream",
     "text": [
      "{'Nurse_1': {'M': [('Patient_7', 'wound care'), ('Patient_12', 'wound care'), ('Patient_14', 'wound care'), ('Patient_19', 'wound care'), ('Patient_20', 'wound care'), ('Patient_23', 'wound care'), ('Patient_25', 'wound care'), ('Patient_36', 'wound care'), ('Patient_41', 'wound care'), ('Patient_48', 'wound care'), ('Patient_54', 'wound care'), ('Patient_62', 'wound care')], 'T': [('Patient_7', 'wound care'), ('Patient_12', 'wound care'), ('Patient_14', 'wound care'), ('Patient_19', 'wound care'), ('Patient_20', 'wound care'), ('Patient_23', 'wound care'), ('Patient_25', 'wound care'), ('Patient_36', 'wound care'), ('Patient_41', 'wound care'), ('Patient_48', 'wound care'), ('Patient_54', 'wound care'), ('Patient_62', 'wound care')], 'W': [('Patient_8', 'wound care'), ('Patient_24', 'wound care'), ('Patient_27', 'wound care'), ('Patient_28', 'wound care'), ('Patient_33', 'wound care'), ('Patient_45', 'wound care'), ('Patient_47', 'wound care'), ('Patient_53', 'wound care'), ('Patient_55', 'wound care'), ('Patient_57', 'wound care'), ('Patient_80', 'wound care'), ('Patient_85', 'wound care')], 'Th': [('Patient_8', 'wound care'), ('Patient_24', 'wound care'), ('Patient_27', 'wound care'), ('Patient_28', 'wound care'), ('Patient_33', 'wound care'), ('Patient_45', 'wound care'), ('Patient_47', 'wound care'), ('Patient_53', 'wound care'), ('Patient_55', 'wound care'), ('Patient_57', 'wound care'), ('Patient_80', 'wound care'), ('Patient_85', 'wound care')], 'F': [('Patient_88', 'wound care')], 'S': [('Patient_88', 'wound care')], 'Su': [('Patient_88', 'wound care')]}, 'Nurse_2': {'M': [('Patient_6', 'physical therapy'), ('Patient_7', 'drawing blood'), ('Patient_9', 'personal hygiene assistance'), ('Patient_9', 'physical therapy'), ('Patient_13', 'physical therapy'), ('Patient_14', 'personal hygiene assistance'), ('Patient_17', 'personal hygiene assistance')], 'T': [('Patient_6', 'physical therapy'), ('Patient_7', 'drawing blood'), ('Patient_9', 'personal hygiene assistance'), ('Patient_9', 'physical therapy'), ('Patient_13', 'physical therapy'), ('Patient_14', 'personal hygiene assistance'), ('Patient_17', 'personal hygiene assistance')], 'W': [('Patient_2', 'physical therapy'), ('Patient_3', 'drawing blood'), ('Patient_4', 'physical therapy'), ('Patient_5', 'drawing blood'), ('Patient_15', 'personal hygiene assistance'), ('Patient_15', 'drawing blood'), ('Patient_15', 'physical therapy')], 'Th': [('Patient_2', 'physical therapy'), ('Patient_3', 'drawing blood'), ('Patient_4', 'physical therapy'), ('Patient_5', 'drawing blood'), ('Patient_15', 'personal hygiene assistance'), ('Patient_15', 'drawing blood'), ('Patient_15', 'physical therapy')], 'F': [('Patient_11', 'personal hygiene assistance'), ('Patient_22', 'personal hygiene assistance'), ('Patient_30', 'personal hygiene assistance'), ('Patient_30', 'physical therapy'), ('Patient_32', 'personal hygiene assistance'), ('Patient_35', 'drawing blood'), ('Patient_35', 'physical therapy')], 'S': [('Patient_11', 'personal hygiene assistance'), ('Patient_22', 'personal hygiene assistance'), ('Patient_30', 'personal hygiene assistance'), ('Patient_30', 'physical therapy'), ('Patient_32', 'personal hygiene assistance'), ('Patient_35', 'drawing blood'), ('Patient_35', 'physical therapy')], 'Su': [('Patient_11', 'personal hygiene assistance'), ('Patient_22', 'personal hygiene assistance'), ('Patient_30', 'personal hygiene assistance'), ('Patient_30', 'physical therapy'), ('Patient_32', 'personal hygiene assistance'), ('Patient_35', 'drawing blood'), ('Patient_35', 'physical therapy')]}, 'Nurse_3': {'M': [('Patient_25', 'physical therapy'), ('Patient_41', 'physical therapy'), ('Patient_66', 'physical therapy'), ('Patient_68', 'physical therapy'), ('Patient_79', 'physical therapy'), ('Patient_81', 'physical therapy')], 'T': [('Patient_25', 'physical therapy'), ('Patient_41', 'physical therapy'), ('Patient_66', 'physical therapy'), ('Patient_68', 'physical therapy'), ('Patient_79', 'physical therapy'), ('Patient_81', 'physical therapy')], 'W': [('Patient_16', 'physical therapy'), ('Patient_24', 'physical therapy'), ('Patient_31', 'physical therapy'), ('Patient_38', 'physical therapy'), ('Patient_45', 'physical therapy'), ('Patient_46', 'physical therapy')], 'Th': [('Patient_16', 'physical therapy'), ('Patient_24', 'physical therapy'), ('Patient_31', 'physical therapy'), ('Patient_38', 'physical therapy'), ('Patient_45', 'physical therapy'), ('Patient_46', 'physical therapy')], 'F': [('Patient_50', 'physical therapy'), ('Patient_60', 'physical therapy'), ('Patient_74', 'physical therapy'), ('Patient_99', 'physical therapy')], 'S': [('Patient_50', 'physical therapy'), ('Patient_60', 'physical therapy'), ('Patient_74', 'physical therapy'), ('Patient_99', 'physical therapy')], 'Su': [('Patient_50', 'physical therapy'), ('Patient_60', 'physical therapy'), ('Patient_74', 'physical therapy'), ('Patient_99', 'physical therapy')]}, 'Nurse_4': {'M': [('Patient_12', 'medication'), ('Patient_19', 'medication'), ('Patient_20', 'medication'), ('Patient_23', 'drawing blood'), ('Patient_23', 'medication'), ('Patient_26', 'drawing blood'), ('Patient_29', 'personal hygiene assistance'), ('Patient_36', 'medication'), ('Patient_36', 'personal hygiene assistance'), ('Patient_39', 'medication'), ('Patient_44', 'medication'), ('Patient_48', 'drawing blood'), ('Patient_54', 'medication'), ('Patient_70', 'medication')], 'T': [('Patient_12', 'medication'), ('Patient_19', 'medication'), ('Patient_20', 'medication'), ('Patient_23', 'drawing blood'), ('Patient_23', 'medication'), ('Patient_26', 'drawing blood'), ('Patient_29', 'personal hygiene assistance'), ('Patient_36', 'medication'), ('Patient_36', 'personal hygiene assistance'), ('Patient_39', 'medication'), ('Patient_44', 'medication'), ('Patient_48', 'drawing blood'), ('Patient_54', 'medication'), ('Patient_70', 'medication')], 'W': [('Patient_3', 'medication'), ('Patient_10', 'medication'), ('Patient_16', 'medication'), ('Patient_16', 'drawing blood'), ('Patient_21', 'medication'), ('Patient_21', 'drawing blood'), ('Patient_24', 'personal hygiene assistance'), ('Patient_27', 'drawing blood'), ('Patient_27', 'medication'), ('Patient_28', 'drawing blood'), ('Patient_33', 'medication'), ('Patient_40', 'medication'), ('Patient_46', 'medication')], 'Th': [('Patient_3', 'medication'), ('Patient_10', 'medication'), ('Patient_16', 'medication'), ('Patient_16', 'drawing blood'), ('Patient_21', 'medication'), ('Patient_21', 'drawing blood'), ('Patient_24', 'personal hygiene assistance'), ('Patient_27', 'drawing blood'), ('Patient_27', 'medication'), ('Patient_28', 'drawing blood'), ('Patient_33', 'medication'), ('Patient_40', 'medication'), ('Patient_46', 'medication')], 'F': [('Patient_11', 'medication'), ('Patient_22', 'medication'), ('Patient_32', 'medication'), ('Patient_35', 'medication'), ('Patient_37', 'personal hygiene assistance'), ('Patient_49', 'personal hygiene assistance'), ('Patient_49', 'drawing blood'), ('Patient_50', 'drawing blood'), ('Patient_60', 'drawing blood'), ('Patient_64', 'drawing blood')], 'S': [('Patient_11', 'medication'), ('Patient_22', 'medication'), ('Patient_32', 'medication'), ('Patient_35', 'medication'), ('Patient_37', 'personal hygiene assistance'), ('Patient_49', 'personal hygiene assistance'), ('Patient_49', 'drawing blood'), ('Patient_50', 'drawing blood'), ('Patient_60', 'drawing blood'), ('Patient_64', 'drawing blood')], 'Su': [('Patient_11', 'medication'), ('Patient_22', 'medication'), ('Patient_32', 'medication'), ('Patient_35', 'medication'), ('Patient_37', 'personal hygiene assistance'), ('Patient_49', 'personal hygiene assistance'), ('Patient_49', 'drawing blood'), ('Patient_50', 'drawing blood'), ('Patient_60', 'drawing blood'), ('Patient_64', 'drawing blood')]}, 'Nurse_5': {'M': [('Patient_7', 'administering injections'), ('Patient_12', 'administering injections'), ('Patient_19', 'administering injections'), ('Patient_26', 'administering injections'), ('Patient_39', 'administering injections'), ('Patient_41', 'administering injections'), ('Patient_48', 'administering injections'), ('Patient_54', 'personal hygiene assistance'), ('Patient_59', 'personal hygiene assistance'), ('Patient_66', 'administering injections'), ('Patient_67', 'personal hygiene assistance'), ('Patient_68', 'administering injections'), ('Patient_73', 'medication')], 'T': [('Patient_7', 'administering injections'), ('Patient_12', 'administering injections'), ('Patient_19', 'administering injections'), ('Patient_26', 'administering injections'), ('Patient_39', 'administering injections'), ('Patient_41', 'administering injections'), ('Patient_48', 'administering injections'), ('Patient_54', 'personal hygiene assistance'), ('Patient_59', 'personal hygiene assistance'), ('Patient_66', 'administering injections'), ('Patient_67', 'personal hygiene assistance'), ('Patient_68', 'administering injections'), ('Patient_73', 'medication')], 'W': [('Patient_21', 'administering injections'), ('Patient_43', 'administering injections'), ('Patient_45', 'personal hygiene assistance'), ('Patient_46', 'personal hygiene assistance'), ('Patient_52', 'administering injections'), ('Patient_53', 'medication'), ('Patient_55', 'physical therapy'), ('Patient_55', 'personal hygiene assistance'), ('Patient_57', 'personal hygiene assistance'), ('Patient_61', 'administering injections'), ('Patient_63', 'administering injections')], 'Th': [('Patient_21', 'administering injections'), ('Patient_43', 'administering injections'), ('Patient_45', 'personal hygiene assistance'), ('Patient_46', 'personal hygiene assistance'), ('Patient_52', 'administering injections'), ('Patient_53', 'medication'), ('Patient_55', 'physical therapy'), ('Patient_55', 'personal hygiene assistance'), ('Patient_57', 'personal hygiene assistance'), ('Patient_61', 'administering injections'), ('Patient_63', 'administering injections')], 'F': [('Patient_1', 'administering injections'), ('Patient_18', 'administering injections'), ('Patient_34', 'administering injections'), ('Patient_37', 'administering injections'), ('Patient_42', 'administering injections'), ('Patient_56', 'administering injections'), ('Patient_60', 'administering injections'), ('Patient_69', 'medication'), ('Patient_76', 'administering injections'), ('Patient_76', 'medication'), ('Patient_99', 'medication'), ('Patient_99', 'administering injections')], 'S': [('Patient_1', 'administering injections'), ('Patient_18', 'administering injections'), ('Patient_34', 'administering injections'), ('Patient_37', 'administering injections'), ('Patient_42', 'administering injections'), ('Patient_56', 'administering injections'), ('Patient_60', 'administering injections'), ('Patient_69', 'medication'), ('Patient_76', 'administering injections'), ('Patient_76', 'medication'), ('Patient_99', 'medication'), ('Patient_99', 'administering injections')], 'Su': [('Patient_1', 'administering injections'), ('Patient_18', 'administering injections'), ('Patient_34', 'administering injections'), ('Patient_37', 'administering injections'), ('Patient_42', 'administering injections'), ('Patient_56', 'administering injections'), ('Patient_60', 'administering injections'), ('Patient_69', 'medication'), ('Patient_76', 'administering injections'), ('Patient_76', 'medication'), ('Patient_99', 'medication'), ('Patient_99', 'administering injections')]}, 'Nurse_6': {'M': [('Patient_73', 'administering injections'), ('Patient_75', 'medication'), ('Patient_77', 'medication'), ('Patient_77', 'administering injections'), ('Patient_79', 'medication'), ('Patient_83', 'administering injections'), ('Patient_89', 'physical therapy'), ('Patient_92', 'administering injections'), ('Patient_92', 'medication'), ('Patient_92', 'physical therapy'), ('Patient_94', 'medication')], 'T': [('Patient_73', 'administering injections'), ('Patient_75', 'medication'), ('Patient_77', 'medication'), ('Patient_77', 'administering injections'), ('Patient_79', 'medication'), ('Patient_83', 'administering injections'), ('Patient_89', 'physical therapy'), ('Patient_92', 'administering injections'), ('Patient_92', 'medication'), ('Patient_92', 'physical therapy'), ('Patient_94', 'medication')], 'W': [('Patient_57', 'physical therapy'), ('Patient_65', 'medication'), ('Patient_71', 'medication'), ('Patient_71', 'physical therapy'), ('Patient_72', 'administering injections'), ('Patient_72', 'physical therapy'), ('Patient_78', 'physical therapy'), ('Patient_78', 'administering injections'), ('Patient_80', 'administering injections'), ('Patient_84', 'medication'), ('Patient_85', 'administering injections'), ('Patient_86', 'medication')], 'Th': [('Patient_57', 'physical therapy'), ('Patient_65', 'medication'), ('Patient_71', 'medication'), ('Patient_71', 'physical therapy'), ('Patient_72', 'administering injections'), ('Patient_72', 'physical therapy'), ('Patient_78', 'physical therapy'), ('Patient_78', 'administering injections'), ('Patient_80', 'administering injections'), ('Patient_84', 'medication'), ('Patient_85', 'administering injections'), ('Patient_86', 'medication')], 'F': [], 'S': [], 'Su': []}, 'Nurse_7': {'M': [('Patient_67', 'wound care'), ('Patient_68', 'wound care'), ('Patient_70', 'wound care'), ('Patient_77', 'wound care'), ('Patient_79', 'wound care'), ('Patient_82', 'wound care'), ('Patient_90', 'wound care'), ('Patient_94', 'wound care'), ('Patient_98', 'wound care')], 'T': [('Patient_67', 'wound care'), ('Patient_68', 'wound care'), ('Patient_70', 'wound care'), ('Patient_77', 'wound care'), ('Patient_79', 'wound care'), ('Patient_82', 'wound care'), ('Patient_90', 'wound care'), ('Patient_94', 'wound care'), ('Patient_98', 'wound care')], 'W': [('Patient_87', 'medication'), ('Patient_96', 'wound care'), ('Patient_97', 'wound care'), ('Patient_100', 'administering injections')], 'Th': [('Patient_87', 'medication'), ('Patient_96', 'wound care'), ('Patient_97', 'wound care'), ('Patient_100', 'administering injections')], 'F': [], 'S': [], 'Su': []}, 'Nurse_8': {'M': [('Patient_75', 'personal hygiene assistance'), ('Patient_82', 'personal hygiene assistance'), ('Patient_89', 'personal hygiene assistance')], 'T': [('Patient_75', 'personal hygiene assistance'), ('Patient_82', 'personal hygiene assistance'), ('Patient_89', 'personal hygiene assistance')], 'W': [('Patient_80', 'personal hygiene assistance'), ('Patient_93', 'physical therapy'), ('Patient_95', 'physical therapy')], 'Th': [('Patient_80', 'personal hygiene assistance'), ('Patient_93', 'physical therapy'), ('Patient_95', 'physical therapy')], 'F': [], 'S': [], 'Su': []}, 'Nurse_9': {'M': [], 'T': [], 'W': [], 'Th': [], 'F': [], 'S': [], 'Su': []}, 'Nurse_10': {'M': [('Patient_51', 'drawing blood'), ('Patient_58', 'drawing blood'), ('Patient_59', 'drawing blood'), ('Patient_67', 'drawing blood'), ('Patient_75', 'drawing blood'), ('Patient_98', 'drawing blood')], 'T': [('Patient_51', 'drawing blood'), ('Patient_58', 'drawing blood'), ('Patient_59', 'drawing blood'), ('Patient_67', 'drawing blood'), ('Patient_75', 'drawing blood'), ('Patient_98', 'drawing blood')], 'W': [('Patient_33', 'drawing blood'), ('Patient_52', 'drawing blood'), ('Patient_71', 'drawing blood'), ('Patient_84', 'drawing blood'), ('Patient_86', 'drawing blood')], 'Th': [('Patient_33', 'drawing blood'), ('Patient_52', 'drawing blood'), ('Patient_71', 'drawing blood'), ('Patient_84', 'drawing blood'), ('Patient_86', 'drawing blood')], 'F': [('Patient_91', 'drawing blood')], 'S': [('Patient_91', 'drawing blood')], 'Su': [('Patient_91', 'drawing blood')]}, 'Nurse_11': {'M': [], 'T': [], 'W': [], 'Th': [], 'F': [], 'S': [], 'Su': []}, 'Nurse_12': {'M': [], 'T': [], 'W': [], 'Th': [], 'F': [], 'S': [], 'Su': []}, 'Nurse_13': {'M': [], 'T': [], 'W': [], 'Th': [], 'F': [], 'S': [], 'Su': []}, 'Nurse_14': {'M': [], 'T': [], 'W': [], 'Th': [], 'F': [], 'S': [], 'Su': []}, 'Nurse_15': {'M': [], 'T': [], 'W': [], 'Th': [], 'F': [], 'S': [], 'Su': []}, 'Nurse_16': {'M': [], 'T': [], 'W': [], 'Th': [], 'F': [], 'S': [], 'Su': []}, 'Nurse_17': {'M': [], 'T': [], 'W': [], 'Th': [], 'F': [], 'S': [], 'Su': []}, 'Nurse_18': {'M': [], 'T': [], 'W': [], 'Th': [], 'F': [], 'S': [], 'Su': []}, 'Nurse_19': {'M': [], 'T': [], 'W': [], 'Th': [], 'F': [], 'S': [], 'Su': []}, 'Nurse_20': {'M': [], 'T': [], 'W': [], 'Th': [], 'F': [], 'S': [], 'Su': []}, 'Nurse_21': {'M': [], 'T': [], 'W': [], 'Th': [], 'F': [], 'S': [], 'Su': []}, 'Nurse_22': {'M': [], 'T': [], 'W': [], 'Th': [], 'F': [], 'S': [], 'Su': []}, 'Nurse_23': {'M': [], 'T': [], 'W': [], 'Th': [], 'F': [], 'S': [], 'Su': []}, 'Nurse_24': {'M': [], 'T': [], 'W': [], 'Th': [], 'F': [], 'S': [], 'Su': []}, 'Nurse_25': {'M': [], 'T': [], 'W': [], 'Th': [], 'F': [], 'S': [], 'Su': []}, 'Nurse_26': {'M': [], 'T': [], 'W': [], 'Th': [], 'F': [], 'S': [], 'Su': []}, 'Nurse_27': {'M': [], 'T': [], 'W': [], 'Th': [], 'F': [], 'S': [], 'Su': []}, 'Nurse_28': {'M': [], 'T': [], 'W': [], 'Th': [], 'F': [], 'S': [], 'Su': []}, 'Nurse_29': {'M': [], 'T': [], 'W': [], 'Th': [], 'F': [], 'S': [], 'Su': []}, 'Nurse_30': {'M': [], 'T': [], 'W': [], 'Th': [], 'F': [], 'S': [], 'Su': []}, 'Nurse_31': {'M': [], 'T': [], 'W': [], 'Th': [], 'F': [], 'S': [], 'Su': []}, 'Nurse_32': {'M': [], 'T': [], 'W': [], 'Th': [], 'F': [], 'S': [], 'Su': []}, 'Nurse_33': {'M': [], 'T': [], 'W': [], 'Th': [], 'F': [], 'S': [], 'Su': []}, 'Nurse_34': {'M': [], 'T': [], 'W': [], 'Th': [], 'F': [], 'S': [], 'Su': []}, 'Nurse_35': {'M': [], 'T': [], 'W': [], 'Th': [], 'F': [], 'S': [], 'Su': []}, 'Nurse_36': {'M': [], 'T': [], 'W': [], 'Th': [], 'F': [], 'S': [], 'Su': []}, 'Nurse_37': {'M': [], 'T': [], 'W': [], 'Th': [], 'F': [], 'S': [], 'Su': []}, 'Nurse_38': {'M': [], 'T': [], 'W': [], 'Th': [], 'F': [], 'S': [], 'Su': []}, 'Nurse_39': {'M': [], 'T': [], 'W': [], 'Th': [], 'F': [], 'S': [], 'Su': []}, 'Nurse_40': {'M': [], 'T': [], 'W': [], 'Th': [], 'F': [], 'S': [], 'Su': []}, 'Nurse_41': {'M': [], 'T': [], 'W': [], 'Th': [], 'F': [], 'S': [], 'Su': []}, 'Nurse_42': {'M': [], 'T': [], 'W': [], 'Th': [], 'F': [], 'S': [], 'Su': []}, 'Nurse_43': {'M': [], 'T': [], 'W': [], 'Th': [], 'F': [], 'S': [], 'Su': []}, 'Nurse_44': {'M': [], 'T': [], 'W': [], 'Th': [], 'F': [], 'S': [], 'Su': []}, 'Nurse_45': {'M': [], 'T': [], 'W': [], 'Th': [], 'F': [], 'S': [], 'Su': []}, 'Nurse_46': {'M': [], 'T': [], 'W': [], 'Th': [], 'F': [], 'S': [], 'Su': []}, 'Nurse_47': {'M': [], 'T': [], 'W': [], 'Th': [], 'F': [], 'S': [], 'Su': []}, 'Nurse_48': {'M': [], 'T': [], 'W': [], 'Th': [], 'F': [], 'S': [], 'Su': []}, 'Nurse_49': {'M': [], 'T': [], 'W': [], 'Th': [], 'F': [], 'S': [], 'Su': []}, 'Nurse_50': {'M': [], 'T': [], 'W': [], 'Th': [], 'F': [], 'S': [], 'Su': []}}\n",
      "{'Nurse_1': {'M': 10.0, 'T': 10.0, 'W': 10.0, 'Th': 10.0, 'F': 0.8333333333333334, 'S': 0.8333333333333334, 'Su': 0.8333333333333334}, 'Nurse_2': {'M': 9.433333333333334, 'T': 9.433333333333334, 'W': 10.0, 'Th': 10.0, 'F': 9.183333333333334, 'S': 9.183333333333334, 'Su': 9.183333333333334}, 'Nurse_3': {'M': 8.7, 'T': 8.7, 'W': 8.7, 'Th': 8.7, 'F': 5.8, 'S': 5.8, 'Su': 5.8}, 'Nurse_4': {'M': 9.850000000000001, 'T': 9.850000000000001, 'W': 9.800000000000002, 'Th': 9.800000000000002, 'F': 9.666666666666668, 'S': 9.666666666666668, 'Su': 9.666666666666668}, 'Nurse_5': {'M': 9.933333333333334, 'T': 9.933333333333334, 'W': 9.916666666666666, 'Th': 9.916666666666666, 'F': 6.999999999999999, 'S': 6.999999999999999, 'Su': 6.999999999999999}, 'Nurse_6': {'M': 7.233333333333333, 'T': 7.233333333333333, 'W': 9.8, 'Th': 9.8, 'F': 0, 'S': 0, 'Su': 0}, 'Nurse_7': {'M': 7.499999999999999, 'T': 7.499999999999999, 'W': 2.6666666666666665, 'Th': 2.6666666666666665, 'F': 0, 'S': 0, 'Su': 0}, 'Nurse_8': {'M': 3.5999999999999996, 'T': 3.5999999999999996, 'W': 4.1, 'Th': 4.1, 'F': 0, 'S': 0, 'Su': 0}, 'Nurse_9': {'M': 0, 'T': 0, 'W': 0, 'Th': 0, 'F': 0, 'S': 0, 'Su': 0}, 'Nurse_10': {'M': 8.9, 'T': 8.9, 'W': 7.416666666666667, 'Th': 7.416666666666667, 'F': 1.4833333333333334, 'S': 1.4833333333333334, 'Su': 1.4833333333333334}, 'Nurse_11': {'M': 0, 'T': 0, 'W': 0, 'Th': 0, 'F': 0, 'S': 0, 'Su': 0}, 'Nurse_12': {'M': 0, 'T': 0, 'W': 0, 'Th': 0, 'F': 0, 'S': 0, 'Su': 0}, 'Nurse_13': {'M': 0, 'T': 0, 'W': 0, 'Th': 0, 'F': 0, 'S': 0, 'Su': 0}, 'Nurse_14': {'M': 0, 'T': 0, 'W': 0, 'Th': 0, 'F': 0, 'S': 0, 'Su': 0}, 'Nurse_15': {'M': 0, 'T': 0, 'W': 0, 'Th': 0, 'F': 0, 'S': 0, 'Su': 0}, 'Nurse_16': {'M': 0, 'T': 0, 'W': 0, 'Th': 0, 'F': 0, 'S': 0, 'Su': 0}, 'Nurse_17': {'M': 0, 'T': 0, 'W': 0, 'Th': 0, 'F': 0, 'S': 0, 'Su': 0}, 'Nurse_18': {'M': 0, 'T': 0, 'W': 0, 'Th': 0, 'F': 0, 'S': 0, 'Su': 0}, 'Nurse_19': {'M': 0, 'T': 0, 'W': 0, 'Th': 0, 'F': 0, 'S': 0, 'Su': 0}, 'Nurse_20': {'M': 0, 'T': 0, 'W': 0, 'Th': 0, 'F': 0, 'S': 0, 'Su': 0}, 'Nurse_21': {'M': 0, 'T': 0, 'W': 0, 'Th': 0, 'F': 0, 'S': 0, 'Su': 0}, 'Nurse_22': {'M': 0, 'T': 0, 'W': 0, 'Th': 0, 'F': 0, 'S': 0, 'Su': 0}, 'Nurse_23': {'M': 0, 'T': 0, 'W': 0, 'Th': 0, 'F': 0, 'S': 0, 'Su': 0}, 'Nurse_24': {'M': 0, 'T': 0, 'W': 0, 'Th': 0, 'F': 0, 'S': 0, 'Su': 0}, 'Nurse_25': {'M': 0, 'T': 0, 'W': 0, 'Th': 0, 'F': 0, 'S': 0, 'Su': 0}, 'Nurse_26': {'M': 0, 'T': 0, 'W': 0, 'Th': 0, 'F': 0, 'S': 0, 'Su': 0}, 'Nurse_27': {'M': 0, 'T': 0, 'W': 0, 'Th': 0, 'F': 0, 'S': 0, 'Su': 0}, 'Nurse_28': {'M': 0, 'T': 0, 'W': 0, 'Th': 0, 'F': 0, 'S': 0, 'Su': 0}, 'Nurse_29': {'M': 0, 'T': 0, 'W': 0, 'Th': 0, 'F': 0, 'S': 0, 'Su': 0}, 'Nurse_30': {'M': 0, 'T': 0, 'W': 0, 'Th': 0, 'F': 0, 'S': 0, 'Su': 0}, 'Nurse_31': {'M': 0, 'T': 0, 'W': 0, 'Th': 0, 'F': 0, 'S': 0, 'Su': 0}, 'Nurse_32': {'M': 0, 'T': 0, 'W': 0, 'Th': 0, 'F': 0, 'S': 0, 'Su': 0}, 'Nurse_33': {'M': 0, 'T': 0, 'W': 0, 'Th': 0, 'F': 0, 'S': 0, 'Su': 0}, 'Nurse_34': {'M': 0, 'T': 0, 'W': 0, 'Th': 0, 'F': 0, 'S': 0, 'Su': 0}, 'Nurse_35': {'M': 0, 'T': 0, 'W': 0, 'Th': 0, 'F': 0, 'S': 0, 'Su': 0}, 'Nurse_36': {'M': 0, 'T': 0, 'W': 0, 'Th': 0, 'F': 0, 'S': 0, 'Su': 0}, 'Nurse_37': {'M': 0, 'T': 0, 'W': 0, 'Th': 0, 'F': 0, 'S': 0, 'Su': 0}, 'Nurse_38': {'M': 0, 'T': 0, 'W': 0, 'Th': 0, 'F': 0, 'S': 0, 'Su': 0}, 'Nurse_39': {'M': 0, 'T': 0, 'W': 0, 'Th': 0, 'F': 0, 'S': 0, 'Su': 0}, 'Nurse_40': {'M': 0, 'T': 0, 'W': 0, 'Th': 0, 'F': 0, 'S': 0, 'Su': 0}, 'Nurse_41': {'M': 0, 'T': 0, 'W': 0, 'Th': 0, 'F': 0, 'S': 0, 'Su': 0}, 'Nurse_42': {'M': 0, 'T': 0, 'W': 0, 'Th': 0, 'F': 0, 'S': 0, 'Su': 0}, 'Nurse_43': {'M': 0, 'T': 0, 'W': 0, 'Th': 0, 'F': 0, 'S': 0, 'Su': 0}, 'Nurse_44': {'M': 0, 'T': 0, 'W': 0, 'Th': 0, 'F': 0, 'S': 0, 'Su': 0}, 'Nurse_45': {'M': 0, 'T': 0, 'W': 0, 'Th': 0, 'F': 0, 'S': 0, 'Su': 0}, 'Nurse_46': {'M': 0, 'T': 0, 'W': 0, 'Th': 0, 'F': 0, 'S': 0, 'Su': 0}, 'Nurse_47': {'M': 0, 'T': 0, 'W': 0, 'Th': 0, 'F': 0, 'S': 0, 'Su': 0}, 'Nurse_48': {'M': 0, 'T': 0, 'W': 0, 'Th': 0, 'F': 0, 'S': 0, 'Su': 0}, 'Nurse_49': {'M': 0, 'T': 0, 'W': 0, 'Th': 0, 'F': 0, 'S': 0, 'Su': 0}, 'Nurse_50': {'M': 0, 'T': 0, 'W': 0, 'Th': 0, 'F': 0, 'S': 0, 'Su': 0}}\n"
     ]
    }
   ],
   "source": [
    "# Initialize a dictionary to hold the schedule\n",
    "schedule = {nurse: {'M': [], 'T': [], 'W': [], 'Th': [], 'F': [], 'S': [], 'Su': []} for nurse in N}\n",
    "\n",
    "# Assuming that 'task_time' is a DataFrame where index are task names and there's a 'Time' column.\n",
    "# Convert task_time to a dictionary for easier use in the function if required.\n",
    "task_time_dict = task_time.to_dict('index')\n",
    "\n",
    "# Function to assign nurses to patients based on skillset matching\n",
    "def assign_nurses_to_patients(nurses, patients, task_time_dict, max_hours_per_day=10):\n",
    "    # Initialize a schedule dictionary\n",
    "    schedule = {nurse: {day: [] for day in D} for nurse in nurses.columns}\n",
    "\n",
    "    # Initialize a dictionary to keep track of the total hours worked by each nurse each day\n",
    "    nurse_hours = {nurse: {day: 0 for day in D} for nurse in nurses.columns}\n",
    "\n",
    "    # Initialize binary variables for task assignment (0 = not assigned, 1 = assigned)\n",
    "    task_assigned = {(patient, task, day): 0 for day in D for patient in P for task in T_tasks}\n",
    "\n",
    "    # Iterate over the days and patients to assign tasks to nurses based on their skills\n",
    "    for day in D:  # 'D' is the list of days\n",
    "        for patient in P:  # 'P' is the list of patient IDs\n",
    "            # Check if the patient's info for the day is a list indicating they have tasks that day\n",
    "            if isinstance(patients.loc[day, patient], list):\n",
    "                patient_tasks = patients.loc[day, patient]\n",
    "                for task in patient_tasks:\n",
    "                    for nurse in nurses.columns:\n",
    "                        nurse_skills = nurses.loc['skillset', nurse]\n",
    "                        # Access the duration for the task\n",
    "                        task_duration = task_time_dict['Time'].get(task, 0) / 60  # Convert minutes to hours\n",
    "                        \n",
    "                        # Check if the nurse has the skill and the task is not already assigned\n",
    "                        if task in nurse_skills and nurse_hours[nurse][day] + task_duration <= max_hours_per_day and not task_assigned[(patient, task, day)]:\n",
    "                            # Assign task to nurse for this day\n",
    "                            schedule[nurse][day].append((patient, task))\n",
    "                            # Update hours for the nurse\n",
    "                            nurse_hours[nurse][day] += task_duration\n",
    "                            # Mark the task as assigned\n",
    "                            task_assigned[(patient, task, day)] = 1\n",
    "\n",
    "    return schedule, nurse_hours\n",
    "\n",
    "# Call the updated function\n",
    "updated_schedule, nurse_hours = assign_nurses_to_patients(nurses, patients, task_time_dict)\n",
    "\n",
    "print(updated_schedule)\n",
    "print(nurse_hours)\n"
   ]
  },
  {
   "cell_type": "code",
   "execution_count": 12,
   "metadata": {},
   "outputs": [
    {
     "name": "stdout",
     "output_type": "stream",
     "text": [
      "nurses used: 10\n"
     ]
    }
   ],
   "source": [
    "num_nurses_all_days_empty = sum(all(not day for day in nurse.values()) for nurse in updated_schedule.values())\n",
    "\n",
    "print(\"nurses used:\",51 - num_nurses_all_days_empty)\n"
   ]
  },
  {
   "cell_type": "markdown",
   "metadata": {},
   "source": [
    "# Code below will check a returned schedule and return a list of nurses who do not work consecutive days\n",
    "\n",
    "This code is working when tested for non consecutive days including SUNDAY to MONDAY"
   ]
  },
  {
   "cell_type": "code",
   "execution_count": 5,
   "metadata": {},
   "outputs": [
    {
     "name": "stdout",
     "output_type": "stream",
     "text": [
      "['Patient_3', 'Patient_2']\n"
     ]
    }
   ],
   "source": [
    "# Redefining the function with the correct logic to handle Sunday and Monday consecutiveness\n",
    "\n",
    "def check_consecutive_days(schedule, days):\n",
    "    # Helper function to determine if two days are consecutive\n",
    "    def is_consecutive(day1, day2, day_order):\n",
    "        idx1 = day_order.index(day1)\n",
    "        idx2 = day_order.index(day2)\n",
    "        # Check for consecutive days considering wrap around\n",
    "        return (idx1 + 1) % len(day_order) == idx2 or (idx2 + 1) % len(day_order) == idx1\n",
    "\n",
    "    # Initialize a dictionary to keep track of patients' schedules\n",
    "    patient_schedule = {}\n",
    "    for nurse in schedule:\n",
    "        for day in schedule[nurse]:\n",
    "            for appointment in schedule[nurse][day]:\n",
    "                patient, _ = appointment\n",
    "                if patient not in patient_schedule:\n",
    "                    patient_schedule[patient] = []\n",
    "                patient_schedule[patient].append(day)\n",
    "\n",
    "    # Check for patients not working on consecutive days\n",
    "    non_consecutive_patients = []\n",
    "    for patient in patient_schedule:\n",
    "        patient_days = patient_schedule[patient]\n",
    "        # Sort days by the index in the 'days' list to simplify consecutive check\n",
    "        sorted_days = sorted(patient_days, key=lambda x: days.index(x))\n",
    "        # Check each day with the next to see if any are consecutive\n",
    "        consecutive = any(is_consecutive(sorted_days[i], sorted_days[i + 1], days)\n",
    "                          for i in range(len(sorted_days) - 1))\n",
    "        # Check for wrap-around case separately (Sunday to Monday)\n",
    "        if not consecutive and is_consecutive(sorted_days[-1], sorted_days[0], days):\n",
    "            consecutive = True\n",
    "        if not consecutive:\n",
    "            non_consecutive_patients.append(patient)\n",
    "\n",
    "    return non_consecutive_patients\n",
    "\n",
    "# Now call the function with the current schedule to find out which nurses have non-consecutive schedules\n",
    "non_consecutive_schedule_nurses = check_consecutive_days(updated_schedule, D)\n",
    "\n",
    "print(non_consecutive_schedule_nurses)"
   ]
  },
  {
   "cell_type": "markdown",
   "metadata": {},
   "source": [
    "# Code below will return a dict of nurses with an array of days as values. The days are those in which the nurse works at multiple locations"
   ]
  },
  {
   "cell_type": "code",
   "execution_count": 6,
   "metadata": {},
   "outputs": [
    {
     "name": "stdout",
     "output_type": "stream",
     "text": [
      "{'Nurse_1': ['S']}\n",
      "{'Nurse_1': {'M': [], 'T': [], 'W': [], 'Th': [], 'F': [('Patient_1', 'administering injections')], 'S': [('Patient_1', 'administering injections'), ('Patient_3', 'administering injections')], 'Su': [('Patient_1', 'administering injections')]}, 'Nurse_2': {'M': [], 'T': [], 'W': [], 'Th': [], 'F': [], 'S': [], 'Su': [('Patient_2', 'wound care')]}}\n"
     ]
    }
   ],
   "source": [
    "def find_nurses_with_different_locations(schedule, find_keys_with_inner_value, L, patients):\n",
    "    # Find out which patients are at each location\n",
    "    patients_at_locations = {location: find_keys_with_inner_value(patients, location) for location in L}\n",
    "\n",
    "    # Reverse map to see which location each patient is at for quick lookup\n",
    "    patient_location_map = {}\n",
    "    for location, location_patients in patients_at_locations.items():\n",
    "        for patient in location_patients:\n",
    "            patient_location_map[patient] = location\n",
    "\n",
    "    # Store nurses who work with patients in more than one location on a single day\n",
    "    nurses_with_different_locations = {}\n",
    "\n",
    "    # Check each nurse's schedule\n",
    "    for nurse, days in schedule.items():\n",
    "        for day, appointments in days.items():\n",
    "            locations_worked = set()  # Initialize locations_worked for each day\n",
    "            for patient, _ in appointments:\n",
    "                if patient in patient_location_map:  # Check if patient has a mapped location\n",
    "                    locations_worked.add(patient_location_map[patient])\n",
    "            # If a nurse works in more than one location in the same day, add to the result\n",
    "            if len(locations_worked) > 1:\n",
    "                if nurse not in nurses_with_different_locations:\n",
    "                    nurses_with_different_locations[nurse] = []\n",
    "                nurses_with_different_locations[nurse].append(day)\n",
    "\n",
    "    return nurses_with_different_locations\n",
    "\n",
    "# Call the function with the current schedule to find out which nurses have different locations\n",
    "nurses_with_different_locations = find_nurses_with_different_locations(updated_schedule, find_keys_with_inner_value, L, patients)\n",
    "\n",
    "print(nurses_with_different_locations)\n",
    "print(updated_schedule)"
   ]
  },
  {
   "cell_type": "markdown",
   "metadata": {},
   "source": [
    "Some kind of a method to check if a task can be reassigned from nurse X to nurse Y without causing conflicts"
   ]
  },
  {
   "cell_type": "code",
   "execution_count": null,
   "metadata": {},
   "outputs": [],
   "source": []
  },
  {
   "cell_type": "markdown",
   "metadata": {},
   "source": [
    "Some kind of method that will take in a nurse and check if it alone has a valid schedule maybe?"
   ]
  },
  {
   "cell_type": "code",
   "execution_count": null,
   "metadata": {},
   "outputs": [],
   "source": []
  },
  {
   "cell_type": "markdown",
   "metadata": {},
   "source": []
  },
  {
   "cell_type": "markdown",
   "metadata": {},
   "source": [
    "# (ignore below)"
   ]
  },
  {
   "cell_type": "code",
   "execution_count": 222,
   "metadata": {},
   "outputs": [
    {
     "name": "stdout",
     "output_type": "stream",
     "text": [
      "{'Nurse_1': {'M': 0, 'T': 0, 'W': 0, 'Th': 0, 'F': 0, 'S': 0, 'Su': 0}, 'Nurse_2': {'M': 0, 'T': 0, 'W': 0, 'Th': 0, 'F': 0, 'S': 0, 'Su': 0}}\n",
      "\n",
      "\n",
      "\n",
      "{'Alexandria': {'M': {'medication': 0, 'drawing blood': 0, 'physical therapy': 0, 'wound care': 0, 'administering injections': 0, 'personal hygiene assistance': 0}, 'T': {'medication': 0, 'drawing blood': 0, 'physical therapy': 0, 'wound care': 0, 'administering injections': 0, 'personal hygiene assistance': 0}, 'W': {'medication': 0, 'drawing blood': 0, 'physical therapy': 0, 'wound care': 0, 'administering injections': 0, 'personal hygiene assistance': 0}, 'Th': {'medication': 0, 'drawing blood': 0, 'physical therapy': 0, 'wound care': 0, 'administering injections': 0, 'personal hygiene assistance': 0}, 'F': {'medication': 0, 'drawing blood': 0, 'physical therapy': 0, 'wound care': 0, 'administering injections': 0, 'personal hygiene assistance': 0}, 'S': {'medication': 0, 'drawing blood': 0, 'physical therapy': 0, 'wound care': 0, 'administering injections': 0, 'personal hygiene assistance': 0}, 'Su': {'medication': 0, 'drawing blood': 0, 'physical therapy': 0, 'wound care': 0, 'administering injections': 0, 'personal hygiene assistance': 0}}, 'Roanoke': {'M': {'medication': 0, 'drawing blood': 0, 'physical therapy': 0, 'wound care': 0, 'administering injections': 0, 'personal hygiene assistance': 0}, 'T': {'medication': 0, 'drawing blood': 0, 'physical therapy': 0, 'wound care': 0, 'administering injections': 0, 'personal hygiene assistance': 0}, 'W': {'medication': 0, 'drawing blood': 0, 'physical therapy': 0, 'wound care': 0, 'administering injections': 0, 'personal hygiene assistance': 0}, 'Th': {'medication': 0, 'drawing blood': 0, 'physical therapy': 0, 'wound care': 0, 'administering injections': 0, 'personal hygiene assistance': 0}, 'F': {'medication': 0, 'drawing blood': 0, 'physical therapy': 0, 'wound care': 0, 'administering injections': 0, 'personal hygiene assistance': 0}, 'S': {'medication': 0, 'drawing blood': 0, 'physical therapy': 0, 'wound care': 0, 'administering injections': 0, 'personal hygiene assistance': 0}, 'Su': {'medication': 0, 'drawing blood': 0, 'physical therapy': 0, 'wound care': 0, 'administering injections': 0, 'personal hygiene assistance': 0}}, 'Norfolk': {'M': {'medication': 0, 'drawing blood': 0, 'physical therapy': 0, 'wound care': 0, 'administering injections': 0, 'personal hygiene assistance': 0}, 'T': {'medication': 0, 'drawing blood': 0, 'physical therapy': 0, 'wound care': 0, 'administering injections': 0, 'personal hygiene assistance': 0}, 'W': {'medication': 0, 'drawing blood': 0, 'physical therapy': 0, 'wound care': 0, 'administering injections': 0, 'personal hygiene assistance': 0}, 'Th': {'medication': 0, 'drawing blood': 0, 'physical therapy': 0, 'wound care': 0, 'administering injections': 0, 'personal hygiene assistance': 0}, 'F': {'medication': 0, 'drawing blood': 0, 'physical therapy': 0, 'wound care': 0, 'administering injections': 0, 'personal hygiene assistance': 0}, 'S': {'medication': 0, 'drawing blood': 0, 'physical therapy': 0, 'wound care': 0, 'administering injections': Time    25\n",
      "Name: administering injections, dtype: int64, 'personal hygiene assistance': 0}, 'Su': {'medication': 0, 'drawing blood': 0, 'physical therapy': 0, 'wound care': 0, 'administering injections': 0, 'personal hygiene assistance': 0}}, 'Virginia Beach': {'M': {'medication': 0, 'drawing blood': 0, 'physical therapy': 0, 'wound care': 0, 'administering injections': 0, 'personal hygiene assistance': 0}, 'T': {'medication': 0, 'drawing blood': 0, 'physical therapy': 0, 'wound care': 0, 'administering injections': 0, 'personal hygiene assistance': 0}, 'W': {'medication': 0, 'drawing blood': 0, 'physical therapy': 0, 'wound care': 0, 'administering injections': 0, 'personal hygiene assistance': 0}, 'Th': {'medication': 0, 'drawing blood': 0, 'physical therapy': 0, 'wound care': 0, 'administering injections': 0, 'personal hygiene assistance': 0}, 'F': {'medication': 0, 'drawing blood': 0, 'physical therapy': 0, 'wound care': 0, 'administering injections': 0, 'personal hygiene assistance': 0}, 'S': {'medication': 0, 'drawing blood': 0, 'physical therapy': 0, 'wound care': 0, 'administering injections': 0, 'personal hygiene assistance': 0}, 'Su': {'medication': 0, 'drawing blood': 0, 'physical therapy': 0, 'wound care': 0, 'administering injections': 0, 'personal hygiene assistance': 0}}, 'Chesapeake': {'M': {'medication': 0, 'drawing blood': 0, 'physical therapy': 0, 'wound care': 0, 'administering injections': 0, 'personal hygiene assistance': 0}, 'T': {'medication': 0, 'drawing blood': 0, 'physical therapy': 0, 'wound care': 0, 'administering injections': 0, 'personal hygiene assistance': 0}, 'W': {'medication': 0, 'drawing blood': 0, 'physical therapy': 0, 'wound care': 0, 'administering injections': 0, 'personal hygiene assistance': 0}, 'Th': {'medication': 0, 'drawing blood': 0, 'physical therapy': 0, 'wound care': 0, 'administering injections': 0, 'personal hygiene assistance': 0}, 'F': {'medication': 0, 'drawing blood': 0, 'physical therapy': 0, 'wound care': 0, 'administering injections': 0, 'personal hygiene assistance': 0}, 'S': {'medication': 0, 'drawing blood': 0, 'physical therapy': 0, 'wound care': 0, 'administering injections': 0, 'personal hygiene assistance': 0}, 'Su': {'medication': 0, 'drawing blood': 0, 'physical therapy': 0, 'wound care': 0, 'administering injections': 0, 'personal hygiene assistance': 0}}, 'Richmond': {'M': {'medication': 0, 'drawing blood': 0, 'physical therapy': 0, 'wound care': 0, 'administering injections': 0, 'personal hygiene assistance': 0}, 'T': {'medication': 0, 'drawing blood': 0, 'physical therapy': 0, 'wound care': 0, 'administering injections': 0, 'personal hygiene assistance': 0}, 'W': {'medication': 0, 'drawing blood': 0, 'physical therapy': 0, 'wound care': 0, 'administering injections': 0, 'personal hygiene assistance': 0}, 'Th': {'medication': 0, 'drawing blood': 0, 'physical therapy': 0, 'wound care': 0, 'administering injections': 0, 'personal hygiene assistance': 0}, 'F': {'medication': 0, 'drawing blood': 0, 'physical therapy': 0, 'wound care': 0, 'administering injections': 0, 'personal hygiene assistance': 0}, 'S': {'medication': 0, 'drawing blood': 0, 'physical therapy': 0, 'wound care': 0, 'administering injections': 0, 'personal hygiene assistance': 0}, 'Su': {'medication': 0, 'drawing blood': 0, 'physical therapy': 0, 'wound care': 0, 'administering injections': 0, 'personal hygiene assistance': 0}}, 'Williamsburg': {'M': {'medication': 0, 'drawing blood': 0, 'physical therapy': 0, 'wound care': 0, 'administering injections': 0, 'personal hygiene assistance': 0}, 'T': {'medication': 0, 'drawing blood': 0, 'physical therapy': 0, 'wound care': 0, 'administering injections': 0, 'personal hygiene assistance': 0}, 'W': {'medication': 0, 'drawing blood': 0, 'physical therapy': 0, 'wound care': 0, 'administering injections': 0, 'personal hygiene assistance': 0}, 'Th': {'medication': 0, 'drawing blood': 0, 'physical therapy': 0, 'wound care': 0, 'administering injections': 0, 'personal hygiene assistance': 0}, 'F': {'medication': 0, 'drawing blood': 0, 'physical therapy': 0, 'wound care': 0, 'administering injections': 0, 'personal hygiene assistance': 0}, 'S': {'medication': 0, 'drawing blood': 0, 'physical therapy': 0, 'wound care': 0, 'administering injections': 0, 'personal hygiene assistance': 0}, 'Su': {'medication': 0, 'drawing blood': 0, 'physical therapy': 0, 'wound care': 0, 'administering injections': 0, 'personal hygiene assistance': 0}}, 'Lynchburg': {'M': {'medication': 0, 'drawing blood': 0, 'physical therapy': 0, 'wound care': 0, 'administering injections': 0, 'personal hygiene assistance': 0}, 'T': {'medication': 0, 'drawing blood': 0, 'physical therapy': 0, 'wound care': 0, 'administering injections': 0, 'personal hygiene assistance': 0}, 'W': {'medication': 0, 'drawing blood': 0, 'physical therapy': 0, 'wound care': 0, 'administering injections': 0, 'personal hygiene assistance': 0}, 'Th': {'medication': 0, 'drawing blood': 0, 'physical therapy': 0, 'wound care': 0, 'administering injections': 0, 'personal hygiene assistance': 0}, 'F': {'medication': 0, 'drawing blood': 0, 'physical therapy': 0, 'wound care': 0, 'administering injections': 0, 'personal hygiene assistance': 0}, 'S': {'medication': 0, 'drawing blood': 0, 'physical therapy': 0, 'wound care': 0, 'administering injections': 0, 'personal hygiene assistance': 0}, 'Su': {'medication': 0, 'drawing blood': 0, 'physical therapy': 0, 'wound care': 0, 'administering injections': 0, 'personal hygiene assistance': 0}}, 'Fredericksburg': {'M': {'medication': 0, 'drawing blood': 0, 'physical therapy': 0, 'wound care': 0, 'administering injections': 0, 'personal hygiene assistance': 0}, 'T': {'medication': 0, 'drawing blood': 0, 'physical therapy': 0, 'wound care': 0, 'administering injections': 0, 'personal hygiene assistance': 0}, 'W': {'medication': 0, 'drawing blood': 0, 'physical therapy': 0, 'wound care': 0, 'administering injections': 0, 'personal hygiene assistance': 0}, 'Th': {'medication': 0, 'drawing blood': 0, 'physical therapy': 0, 'wound care': 0, 'administering injections': 0, 'personal hygiene assistance': 0}, 'F': {'medication': 0, 'drawing blood': 0, 'physical therapy': 0, 'wound care': 0, 'administering injections': Time    25\n",
      "Name: administering injections, dtype: int64, 'personal hygiene assistance': 0}, 'S': {'medication': 0, 'drawing blood': 0, 'physical therapy': 0, 'wound care': 0, 'administering injections': Time    25\n",
      "Name: administering injections, dtype: int64, 'personal hygiene assistance': 0}, 'Su': {'medication': 0, 'drawing blood': 0, 'physical therapy': 0, 'wound care': Time    50\n",
      "Name: wound care, dtype: int64, 'administering injections': Time    25\n",
      "Name: administering injections, dtype: int64, 'personal hygiene assistance': 0}}, 'Arlington': {'M': {'medication': 0, 'drawing blood': 0, 'physical therapy': 0, 'wound care': 0, 'administering injections': 0, 'personal hygiene assistance': 0}, 'T': {'medication': 0, 'drawing blood': 0, 'physical therapy': 0, 'wound care': 0, 'administering injections': 0, 'personal hygiene assistance': 0}, 'W': {'medication': 0, 'drawing blood': 0, 'physical therapy': 0, 'wound care': 0, 'administering injections': 0, 'personal hygiene assistance': 0}, 'Th': {'medication': 0, 'drawing blood': 0, 'physical therapy': 0, 'wound care': 0, 'administering injections': 0, 'personal hygiene assistance': 0}, 'F': {'medication': 0, 'drawing blood': 0, 'physical therapy': 0, 'wound care': 0, 'administering injections': 0, 'personal hygiene assistance': 0}, 'S': {'medication': 0, 'drawing blood': 0, 'physical therapy': 0, 'wound care': 0, 'administering injections': 0, 'personal hygiene assistance': 0}, 'Su': {'medication': 0, 'drawing blood': 0, 'physical therapy': 0, 'wound care': 0, 'administering injections': 0, 'personal hygiene assistance': 0}}}\n"
     ]
    }
   ],
   "source": [
    "# City with needs on each day,\n",
    "# array of 7 lists, each list contains patients in that city on that day \n",
    "\n",
    "# total task time / city / day \n",
    "\n",
    "# function to determine total task time / city / day\n",
    "def calculate_total_hours_per_city_per_day(day, city): \n",
    "    total_hours = 0\n",
    "    for patient in find_keys_with_inner_value(patients, city):\n",
    "        for task in patients[patient][day]:\n",
    "            total_hours += task_time[task]\n",
    "    return total_hours\n",
    "\n",
    "# function to determine total task time / city / day / task\n",
    "def calculate_total_hours_per_city_per_day_per_task(day, city, task): \n",
    "    total_hours = 0\n",
    "    for patient in find_keys_with_inner_value(patients, city):\n",
    "        for theTask in patients[patient][day]:\n",
    "            if theTask == task:\n",
    "                total_hours += task_time[task]\n",
    "    return total_hours\n",
    "\n",
    "\n",
    "# make an array for each nurse with the total hours they work on each day (init to 0)\n",
    "eachNursesHours = {}\n",
    "for nurse in N:\n",
    "    eachNursesHours[nurse] = {}\n",
    "    for day in D:\n",
    "        eachNursesHours[nurse][day] = 0\n",
    "\n",
    "print(eachNursesHours)\n",
    "\n",
    "# make an array for each city with the total hours of work needed on each day using the function above\n",
    "eachCityHours = {}\n",
    "for city in L:\n",
    "    eachCityHours[city] = {}\n",
    "    for day in D:\n",
    "        eachCityHours[city][day] = {}\n",
    "        for task in T_tasks:\n",
    "            eachCityHours[city][day][task] = calculate_total_hours_per_city_per_day_per_task(day, city, task)\n",
    "\n",
    "print()\n",
    "print()\n",
    "print()\n",
    "print(eachCityHours)\n",
    "\n",
    "# loop through each city for each day and assign a nurse to each task's total time if the nurse has the skillset and is available\n",
    "# THIS FUNCTRION DOES NOT WORK YET @JOSH we will fix it later \n",
    "def assignNurses():\n",
    "    for city in L:\n",
    "        for day in D:\n",
    "            for task in T_tasks:\n",
    "                for nurse in N:\n",
    "                    if task in NursesSkills['Nurse_1'] and eachNursesHours[nurse][day] < eachCityHours[city][day][task]:\n",
    "                        eachNursesHours[nurse][day] += eachCityHours[city][day][task]\n",
    "                        print(\"Nurse \" + nurse + \" assigned to \" + task + \" in \" + city + \" on \" + day)\n",
    "                        break\n",
    "\n",
    "#assignNurses()\n"
   ]
  }
 ],
 "metadata": {
  "kernelspec": {
   "display_name": "Python 3 (ipykernel)",
   "language": "python",
   "name": "python3"
  },
  "language_info": {
   "codemirror_mode": {
    "name": "ipython",
    "version": 3
   },
   "file_extension": ".py",
   "mimetype": "text/x-python",
   "name": "python",
   "nbconvert_exporter": "python",
   "pygments_lexer": "ipython3",
   "version": "3.11.5"
  }
 },
 "nbformat": 4,
 "nbformat_minor": 2
}
