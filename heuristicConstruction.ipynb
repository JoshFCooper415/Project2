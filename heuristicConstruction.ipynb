{
 "cells": [
  {
   "cell_type": "code",
   "execution_count": 1,
   "metadata": {},
   "outputs": [
    {
     "name": "stdout",
     "output_type": "stream",
     "text": [
      "['Nurse_1', 'Nurse_2', 'Nurse_3', 'Nurse_4', 'Nurse_5', 'Nurse_6', 'Nurse_7', 'Nurse_8', 'Nurse_9', 'Nurse_10', 'Nurse_11', 'Nurse_12', 'Nurse_13', 'Nurse_14', 'Nurse_15', 'Nurse_16', 'Nurse_17', 'Nurse_18', 'Nurse_19', 'Nurse_20', 'Nurse_21', 'Nurse_22', 'Nurse_23', 'Nurse_24', 'Nurse_25', 'Nurse_26', 'Nurse_27', 'Nurse_28', 'Nurse_29', 'Nurse_30', 'Nurse_31', 'Nurse_32', 'Nurse_33', 'Nurse_34', 'Nurse_35', 'Nurse_36', 'Nurse_37', 'Nurse_38', 'Nurse_39', 'Nurse_40', 'Nurse_41', 'Nurse_42', 'Nurse_43', 'Nurse_44', 'Nurse_45', 'Nurse_46', 'Nurse_47', 'Nurse_48', 'Nurse_49', 'Nurse_50'] ['Patient_1', 'Patient_2', 'Patient_3', 'Patient_4', 'Patient_5', 'Patient_6', 'Patient_7', 'Patient_8', 'Patient_9', 'Patient_10', 'Patient_11', 'Patient_12', 'Patient_13', 'Patient_14', 'Patient_15', 'Patient_16', 'Patient_17', 'Patient_18', 'Patient_19', 'Patient_20', 'Patient_21', 'Patient_22', 'Patient_23', 'Patient_24', 'Patient_25', 'Patient_26', 'Patient_27', 'Patient_28', 'Patient_29', 'Patient_30', 'Patient_31', 'Patient_32', 'Patient_33', 'Patient_34', 'Patient_35', 'Patient_36', 'Patient_37', 'Patient_38', 'Patient_39', 'Patient_40', 'Patient_41', 'Patient_42', 'Patient_43', 'Patient_44', 'Patient_45', 'Patient_46', 'Patient_47', 'Patient_48', 'Patient_49', 'Patient_50', 'Patient_51', 'Patient_52', 'Patient_53', 'Patient_54', 'Patient_55', 'Patient_56', 'Patient_57', 'Patient_58', 'Patient_59', 'Patient_60', 'Patient_61', 'Patient_62', 'Patient_63', 'Patient_64', 'Patient_65', 'Patient_66', 'Patient_67', 'Patient_68', 'Patient_69', 'Patient_70', 'Patient_71', 'Patient_72', 'Patient_73', 'Patient_74', 'Patient_75', 'Patient_76', 'Patient_77', 'Patient_78', 'Patient_79', 'Patient_80', 'Patient_81', 'Patient_82', 'Patient_83', 'Patient_84', 'Patient_85', 'Patient_86', 'Patient_87', 'Patient_88', 'Patient_89', 'Patient_90', 'Patient_91', 'Patient_92', 'Patient_93', 'Patient_94', 'Patient_95', 'Patient_96', 'Patient_97', 'Patient_98', 'Patient_99', 'Patient_100'] ['Alexandria', 'Roanoke', 'Norfolk', 'Virginia Beach', 'Chesapeake', 'Richmond', 'Williamsburg', 'Lynchburg', 'Fredericksburg', 'Arlington'] ['M', 'T', 'W', 'Th', 'F', 'S', 'Su'] ['medication', 'drawing blood', 'physical therapy', 'wound care', 'administering injections', 'personal hygiene assistance']\n"
     ]
    }
   ],
   "source": [
    "#LOAD IN DATA FROM EXCEL\n",
    "import pandas as pd\n",
    "import gurobipy as gp\n",
    "from gurobipy import GRB\n",
    "\n",
    "# Read data\n",
    "data_path = \"nurse_schedule_project2_data_large_VA.xlsx\"\n",
    "locations = pd.read_excel(data_path, sheet_name=\"locations\", index_col = 0, header = None)\n",
    "nurses = pd.read_excel(data_path, sheet_name=\"nurses\", index_col = 0)\n",
    "task_time = pd.read_excel(data_path, sheet_name=\"task_execution_time\", index_col = 0).T\n",
    "\n",
    "patients = pd.read_excel(data_path, sheet_name=\"patients\", index_col = 0)\n",
    "# Break comma separated strings into lists\n",
    "for col in ['M', 'T', 'W','Th','F','S','Su']:\n",
    "    patients[col] = patients[col].apply(lambda x: x.split(', ') if isinstance(x, str) else [])\n",
    "for col in ['skillset']:\n",
    "    nurses[col] = nurses[col].apply(lambda x: x.split(', ') if isinstance(x, str) else [])\n",
    "\n",
    "# Transpose the dataframe to access patient information easily\n",
    "patients = patients.T\n",
    "nurses = nurses.T\n",
    "\n",
    "\n",
    "# Sets and Parameters\n",
    "N = nurses.columns.tolist()            # set of nurses\n",
    "P = patients.columns.tolist()          # set of patients\n",
    "L = list(locations.index)         # set of locations\n",
    "D = ['M', 'T', 'W', 'Th', 'F', 'S', 'Su']  # set of days\n",
    "T_tasks = task_time.columns.tolist() # set of tasks\n",
    "\n",
    "# Parameters\n",
    "\n",
    "\n",
    "# define a function to list all patients in a given location\n",
    "def find_keys_with_inner_value(df, target_value):\n",
    "    return list(df.T[df.T['location'] == target_value].index)\n",
    "\n",
    "\n",
    "print(N, P, L, D, T_tasks)"
   ]
  },
  {
   "cell_type": "code",
   "execution_count": null,
   "metadata": {},
   "outputs": [],
   "source": [
    "# City with needs on each day\n",
    "\n",
    "# Total hours of needs on each day / city \n",
    "\n",
    "# "
   ]
  }
 ],
 "metadata": {
  "kernelspec": {
   "display_name": "Python 3",
   "language": "python",
   "name": "python3"
  },
  "language_info": {
   "codemirror_mode": {
    "name": "ipython",
    "version": 3
   },
   "file_extension": ".py",
   "mimetype": "text/x-python",
   "name": "python",
   "nbconvert_exporter": "python",
   "pygments_lexer": "ipython3",
   "version": "3.11.4"
  }
 },
 "nbformat": 4,
 "nbformat_minor": 2
}
