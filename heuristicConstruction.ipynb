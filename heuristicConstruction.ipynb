{
 "cells": [
  {
   "cell_type": "code",
   "execution_count": 3,
   "metadata": {},
   "outputs": [],
   "source": [
    "#LOAD IN DATA FROM EXCEL\n",
    "import pandas as pd\n",
    "import gurobipy as gp\n",
    "from gurobipy import GRB\n",
    "\n",
    "# Read data\n",
    "data_path = \"nurse_schedule_project2_data_large_VA.xlsx\"\n",
    "locations = pd.read_excel(data_path, sheet_name=\"locations\", index_col = 0, header = None)\n",
    "nurses = pd.read_excel(data_path, sheet_name=\"nurses\", index_col = 0)\n",
    "task_time = pd.read_excel(data_path, sheet_name=\"task_execution_time\", index_col = 0).T\n",
    "\n",
    "patients = pd.read_excel(data_path, sheet_name=\"patients\", index_col = 0)\n",
    "# Break comma separated strings into lists\n",
    "for col in ['M', 'T', 'W','Th','F','S','Su']:\n",
    "    patients[col] = patients[col].apply(lambda x: x.split(', ') if isinstance(x, str) else [])\n",
    "for col in ['skillset']:\n",
    "    nurses[col] = nurses[col].apply(lambda x: x.split(', ') if isinstance(x, str) else [])\n",
    "\n",
    "# Transpose the dataframe to access patient information easily\n",
    "patients = patients.T\n",
    "nurses = nurses.T\n",
    "\n",
    "\n",
    "# Sets and Parameters\n",
    "nurses = nurses.columns.tolist()            # set of nurses\n",
    "patients = patients.columns.tolist()          # set of patients\n",
    "locations = list(locations.index)         # set of locations\n",
    "days = ['M', 'T', 'W', 'Th', 'F', 'S', 'Su']  # set of days\n",
    "T_tasks = task_time.columns.tolist() # set of tasks\n",
    "\n",
    "# Parameters\n",
    "\n",
    "\n",
    "# define a function to list all patients in a given location\n",
    "def find_keys_with_inner_value(df, target_value):\n",
    "    return list(df.T[df.T['location'] == target_value].index)\n"
   ]
  },
  {
   "cell_type": "code",
   "execution_count": 7,
   "metadata": {},
   "outputs": [
    {
     "ename": "AttributeError",
     "evalue": "'list' object has no attribute 'T'",
     "output_type": "error",
     "traceback": [
      "\u001b[0;31m---------------------------------------------------------------------------\u001b[0m",
      "\u001b[0;31mAttributeError\u001b[0m                            Traceback (most recent call last)",
      "\u001b[1;32m/Users/maguiremcmahon/Desktop/Fall23/DOR2/Project2/Project2/heuristicConstruction.ipynb Cell 2\u001b[0m line \u001b[0;36m7\n\u001b[1;32m      <a href='vscode-notebook-cell:/Users/maguiremcmahon/Desktop/Fall23/DOR2/Project2/Project2/heuristicConstruction.ipynb#W1sZmlsZQ%3D%3D?line=4'>5</a>\u001b[0m     needs\u001b[39m.\u001b[39mappend([])\n\u001b[1;32m      <a href='vscode-notebook-cell:/Users/maguiremcmahon/Desktop/Fall23/DOR2/Project2/Project2/heuristicConstruction.ipynb#W1sZmlsZQ%3D%3D?line=5'>6</a>\u001b[0m     \u001b[39mfor\u001b[39;00m j \u001b[39min\u001b[39;00m \u001b[39mrange\u001b[39m(\u001b[39mlen\u001b[39m(days)):\n\u001b[0;32m----> <a href='vscode-notebook-cell:/Users/maguiremcmahon/Desktop/Fall23/DOR2/Project2/Project2/heuristicConstruction.ipynb#W1sZmlsZQ%3D%3D?line=6'>7</a>\u001b[0m         needs[i]\u001b[39m.\u001b[39mappend(find_keys_with_inner_value(patients, locations[i]))\n\u001b[1;32m      <a href='vscode-notebook-cell:/Users/maguiremcmahon/Desktop/Fall23/DOR2/Project2/Project2/heuristicConstruction.ipynb#W1sZmlsZQ%3D%3D?line=8'>9</a>\u001b[0m \u001b[39mprint\u001b[39m(needs)\n",
      "\u001b[1;32m/Users/maguiremcmahon/Desktop/Fall23/DOR2/Project2/Project2/heuristicConstruction.ipynb Cell 2\u001b[0m line \u001b[0;36m3\n\u001b[1;32m     <a href='vscode-notebook-cell:/Users/maguiremcmahon/Desktop/Fall23/DOR2/Project2/Project2/heuristicConstruction.ipynb#W1sZmlsZQ%3D%3D?line=34'>35</a>\u001b[0m \u001b[39mdef\u001b[39;00m \u001b[39mfind_keys_with_inner_value\u001b[39m(df, target_value):\n\u001b[0;32m---> <a href='vscode-notebook-cell:/Users/maguiremcmahon/Desktop/Fall23/DOR2/Project2/Project2/heuristicConstruction.ipynb#W1sZmlsZQ%3D%3D?line=35'>36</a>\u001b[0m     \u001b[39mreturn\u001b[39;00m \u001b[39mlist\u001b[39m(df\u001b[39m.\u001b[39mT[df\u001b[39m.\u001b[39mT[\u001b[39m'\u001b[39m\u001b[39mlocation\u001b[39m\u001b[39m'\u001b[39m] \u001b[39m==\u001b[39m target_value]\u001b[39m.\u001b[39mindex)\n",
      "\u001b[0;31mAttributeError\u001b[0m: 'list' object has no attribute 'T'"
     ]
    }
   ],
   "source": [
    "# City with needs on each day,\n",
    "# array of 7 lists, each list contains patients in that city on that day\n",
    "needs = []\n",
    "for i in range(len(locations)):\n",
    "    needs.append([])\n",
    "    for j in range(len(days)):\n",
    "        needs[i].append(find_keys_with_inner_value(patients, locations[i]))\n",
    "\n",
    "print(needs)\n",
    "\n",
    "\n",
    "# Total hours of needs on each day / city \n",
    "\n"
   ]
  },
  {
   "cell_type": "markdown",
   "metadata": {},
   "source": []
  }
 ],
 "metadata": {
  "kernelspec": {
   "display_name": "Python 3",
   "language": "python",
   "name": "python3"
  },
  "language_info": {
   "codemirror_mode": {
    "name": "ipython",
    "version": 3
   },
   "file_extension": ".py",
   "mimetype": "text/x-python",
   "name": "python",
   "nbconvert_exporter": "python",
   "pygments_lexer": "ipython3",
   "version": "3.11.4"
  }
 },
 "nbformat": 4,
 "nbformat_minor": 2
}
